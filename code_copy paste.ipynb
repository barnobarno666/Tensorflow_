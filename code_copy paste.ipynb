{
 "cells": [
  {
   "cell_type": "code",
   "execution_count": null,
   "metadata": {},
   "outputs": [],
   "source": [
    "#CODE TO CREATE A CONFUSION MATRIX\n",
    "from sklearn.metrics import confusion_matrix\n",
    "\n",
    "# Example ground truth and predicted labels\n",
    "y_true = y_test\n",
    "y_pred = rf_model_best.predict(X_test)\n",
    "\n",
    "\n",
    "# Create confusion matrix\n",
    "cm = confusion_matrix(y_true, y_pred)\n",
    "\n",
    "\n",
    "# Define class labels\n",
    "class_labels = ['Class 0', 'Class 1']\n",
    "\n",
    "# Plot confusion matrix\n",
    "plt.imshow(cm, interpolation='nearest', cmap=plt.cm.Blues)\n",
    "plt.title('Confusion Matrix')\n",
    "plt.colorbar()\n",
    "tick_marks = np.arange(len(class_labels))\n",
    "plt.xticks(tick_marks, class_labels, rotation=45)\n",
    "plt.yticks(tick_marks, class_labels)\n",
    "\n",
    "\n",
    "# Add labels for FP and FN ; TN, TP\n",
    "plt.text(1, 0, f'FP={cm[0, 1]}', ha=\"center\", va=\"bottom\",\n",
    "         color=\"black\", bbox=dict(facecolor='white', alpha=0.5))\n",
    "plt.text(0, 1, f'FN={cm[1, 0]}', ha=\"center\", va=\"top\",\n",
    "         color=\"black\", bbox=dict(facecolor='white', alpha=0.5))\n",
    "\n",
    "plt.text(0, 0, f'TN={cm[0, 0]}', ha=\"center\", va=\"top\",\n",
    "         color=\"black\", bbox=dict(facecolor='white', alpha=0.5))\n",
    "plt.text(1, 1, f'TP={cm[1, 1]}', ha=\"center\", va=\"top\",\n",
    "         color=\"black\", bbox=dict(facecolor='white', alpha=0.5))\n",
    "\n",
    "plt.ylabel('True label')\n",
    "plt.xlabel('Predicted label')\n",
    "plt.tight_layout()\n",
    "plt.show()"
   ]
  },
  {
   "cell_type": "code",
   "execution_count": null,
   "metadata": {},
   "outputs": [],
   "source": []
  },
  {
   "attachments": {},
   "cell_type": "markdown",
   "metadata": {},
   "source": []
  }
 ],
 "metadata": {
  "kernelspec": {
   "display_name": "Python 3",
   "language": "python",
   "name": "python3"
  },
  "language_info": {
   "name": "python",
   "version": "3.10.11"
  },
  "orig_nbformat": 4
 },
 "nbformat": 4,
 "nbformat_minor": 2
}
