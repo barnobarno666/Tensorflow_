{
 "cells": [
  {
   "attachments": {},
   "cell_type": "markdown",
   "metadata": {},
   "source": [
    "\n",
    "Got It!\n",
    "1. Introduction to Data Visualization with Matplotlib\n",
    "Hello and welcome to this course on data visualization with Matplotlib! A picture is worth a thousand words. Data visualizations let you derive insights from data and let you communicate about the data with others.\n",
    "\n",
    "2. Data visualization\n",
    "For example, this visualization shows an animated history of an outbreak of Ebola in West Africa. The amount of information in this complex visualization is simply staggering! This visualization was created using Matplotlib, a Python library that is widely used to visualize data. There are many software libraries that visualize data. One of the main advantages of Matplotlib is that it gives you complete control over the properties of your plot. This allows you to customize and control the precise properties of your visualizations. At the end of this course, you will know not only how to control your visualizations, but also how to create programs that automatically create visualizations based on your data.\n",
    "\n",
    "3. Introducing the pyplot interface\n",
    "There are many different ways to use Matplotlib. In this course, we will use the main object-oriented interface. This interface is provided through the pyplot submodule. Here, we import this submodule and name it plt. While using the name plt is not necessary for the program to work, this is a very strongly-followed convention, and we will follow it here as well. The plt-dot-subplots command, when called without any inputs, creates two different objects: a Figure object and an Axes object. The Figure object is a container that holds everything that you see on the page. Meanwhile, the Axes is the part of the page that holds the data. It is the canvas on which we will draw with our data, to visualize it. Here, you can see a Figure with empty Axes. No data has been added yet.\n",
    "\n",
    "4. Adding data to axes\n",
    "Let's add some data to our figure. Here is some data. This is a DataFrame that contains information about the weather in the city of Seattle in the different months of the year. The \"MONTH\" column contains the three-letter names of the months of the year. The \"monthly average normal temperature\" column contains the temperatures in these months, in Fahrenheit degrees, averaged over a ten-year period.\n",
    "\n",
    "5. Adding data to axes\n",
    "To add the data to the Axes, we call a plotting command. The plotting commands are methods of the Axes object. For example, here we call the method called plot with the month column as the first argument and the temperature column as the second argument. Finally, we call the plt-dot-show function to show the effect of the plotting command. This adds a line to the plot. The horizontal dimension of the plot represents the months according to their order and the height of the line at each month represents the average temperature. The trends in the data are now much clearer than they were just by reading off the temperatures from the table.\n",
    "\n",
    "6. Adding more data\n",
    "If you want, you can add more data to the plot. For example, we also have a table that stores data about the average temperatures in the city of Austin, Texas. We add these data to the axes by calling the plot method again.\n",
    "\n",
    "7. Putting it all together\n",
    "Here is what all of the code to create this figure would then look like. First, we create the Figure and the Axes objects. We call the Axes method plot to add first the Seattle temperatures, and then the Austin temperatures to the Axes. Finally, we ask Matplotlib to show us the figure.\n",
    "\n",
    "8. Practice making a figure!\n",
    "Now it's your turn. In the exercises, you will practice making a figure and axes and adding data into them.\n",
    "\n"
   ]
  },
  {
   "cell_type": "code",
   "execution_count": 4,
   "metadata": {},
   "outputs": [],
   "source": [
    "import pandas  as pd\n",
    "austin_weather=pd.read_csv('austin_weather.csv')\n",
    "seattle_weather=pd.read_csv('seattle_weather.csv')\n"
   ]
  },
  {
   "cell_type": "code",
   "execution_count": 1,
   "metadata": {},
   "outputs": [
    {
     "data": {
      "image/png": "[encoded data removed]",
      "text/plain": [
       "<Figure size 640x480 with 1 Axes>"
      ]
     },
     "metadata": {},
     "output_type": "display_data"
    }
   ],
   "source": [
    "# Import the matplotlib.pyplot submodule and name it plt\n",
    "import matplotlib.pyplot as plt\n",
    "\n",
    "# Create a Figure and an Axes with plt.subplots\n",
    "fig, ax = plt.subplots()\n",
    "\n",
    "# Call the show function to show the result\n",
    "plt.show()"
   ]
  },
  {
   "attachments": {},
   "cell_type": "markdown",
   "metadata": {},
   "source": [
    "\n",
    "Got It!\n",
    "1. Customizing your plots\n",
    "Now that you know how to add data to a plot, let's start customizing your plots.\n",
    "\n",
    "2. Customizing data appearance\n",
    "First let's customize the appearance of the data in the plot. Here is the code that you previously used to plot the data about the weather in Seattle. One of the things that you might want to improve about this plot is that the data appears to be continuous, but it was actually only measured in monthly intervals. A way to indicate this would be to add markers to the plot that show us where the data exists and which parts are just lines that connect between the data points.\n",
    "\n",
    "3. Adding markers\n",
    "The plot method takes an optional keyword argument, marker, which lets you indicate that you are interested in adding markers to the plot and also what kind of markers you'd like. For example, passing the lower-case letter \"o\" indicates that you would like to use circles as markers.\n",
    "\n",
    "4. Choosing markers\n",
    "If you were to pass a lower case letter \"v\" instead, you would get markers shaped like triangles pointing downwards. To see all the possible marker styles, you can visit this page in the Matplotlib online documentation. In these versions of the plot, the measured data appears as markers of some shape, and it becomes more apparent that the lines are just connectors between them.\n",
    "\n",
    "5. Setting the linestyle\n",
    "But you can go even further to emphasize this by changing the appearance of these connecting lines. This is done by adding the linestyle keyword argument. Here two dashes are used to indicate that the line should be dashed. Like marker shapes, there are a few linestyles you can choose from, listed in this documentation page.\n",
    "\n",
    "6. Eliminating lines with linestyle\n",
    "You can even go so far as to eliminate the lines altogether, by passing the string \"None\" as input to this keyword argument.\n",
    "\n",
    "7. Choosing color\n",
    "Finally, you can choose the color that you would like to use for the data. For example, here we've chosen to show this data in red, indicated by the letter \"r\".\n",
    "\n",
    "8. Customizing the axes labels\n",
    "Another important thing to customize are the axis labels. If you want your visualizations to communicate properly you need to always label the axes. This is really important but is something that is often neglected. In addition to the plot method, the Axes object has several methods that start with the word set. These are methods that you can use to change certain properties of the object, before calling show to display it. For example, there is a set-underscore-xlabel method that you can use to set the value of the label of the x-axis. Note that we capitalize axis labels as we would capitalize a sentence, where only the first word is always capitalized and subsequent words are capitalized only if they are proper nouns. If you then call plt-dot-show you will see that the axis now has a label that indicates that the values on the x-axis denote time in months.\n",
    "\n",
    "9. Setting the y axis label\n",
    "Similarly, a set-underscore-ylabel method customizes the label that is associated with the y-axis. Here, we set the label to indicate that the height of the line in each month indicates the average temperature in that month.\n",
    "\n",
    "10. Adding a title\n",
    "Finally, you can also add a title to your Axes using the set-underscore-title method. This adds another source of information about the data to provide context for your visualization.\n",
    "\n",
    "11. Practice customizing your plots!\n",
    "OK. Now that you have seen some examples of customizing the appearance of the data in your plots, and the axis labels, it's time to get a bit of practice with these concepts.\n",
    "\n"
   ]
  },
  {
   "cell_type": "code",
   "execution_count": null,
   "metadata": {},
   "outputs": [],
   "source": []
  }
 ],
 "metadata": {
  "kernelspec": {
   "display_name": "Python 3",
   "language": "python",
   "name": "python3"
  },
  "language_info": {
   "codemirror_mode": {
    "name": "ipython",
    "version": 3
   },
   "file_extension": ".py",
   "mimetype": "text/x-python",
   "name": "python",
   "nbconvert_exporter": "python",
   "pygments_lexer": "ipython3",
   "version": "3.10.11"
  },
  "orig_nbformat": 4
 },
 "nbformat": 4,
 "nbformat_minor": 2
}
