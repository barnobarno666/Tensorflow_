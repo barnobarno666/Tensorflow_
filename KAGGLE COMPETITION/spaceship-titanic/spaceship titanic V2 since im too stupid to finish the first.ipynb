{
 "cells": [
  {
   "cell_type": "code",
   "execution_count": 1,
   "metadata": {},
   "outputs": [],
   "source": [
    "import pandas as pd\n",
    "import numpy as np\n"
   ]
  },
  {
   "cell_type": "code",
   "execution_count": 2,
   "metadata": {},
   "outputs": [],
   "source": [
    "from sklearn.model_selection import train_test_split\n",
    "data=pd.read_csv('train.csv')\n",
    "Y=data['Transported']\n",
    "X=data.drop(['Name','Transported'],axis= 1)\n"
   ]
  },
  {
   "cell_type": "code",
   "execution_count": null,
   "metadata": {},
   "outputs": [],
   "source": [
    "X\n",
    "\n",
    "\n",
    "\n"
   ]
  },
  {
   "cell_type": "code",
   "execution_count": 8,
   "metadata": {},
   "outputs": [],
   "source": [
    "Y_train=pd.get_dummies(Y,drop_first=True)"
   ]
  },
  {
   "cell_type": "code",
   "execution_count": 3,
   "metadata": {},
   "outputs": [],
   "source": [
    "### SEE IF THERE IS NOT\n",
    "test_data=pd.read_csv('test.csv')\n",
    "X_test=test_data.drop('Name',axis= 1)\n",
    "catagorical_colums=X[X.columns[X.dtypes==object]]\n",
    "\n",
    "# for column in catagorical_colums:\n",
    "#     turing_list=[]\n",
    "#     for j in range(len(X_test)):\n",
    "#         if X_test[column][j] not in turing_list:\n",
    "#             turing_list.append(X_test[column][j])\n",
    "#     for j in range(len(X_test)):\n",
    "#         if\n",
    "    \n",
    "\n"
   ]
  },
  {
   "cell_type": "code",
   "execution_count": 16,
   "metadata": {},
   "outputs": [],
   "source": [
    "catagorical_colum_names=list(catagorical_colums.columns)\n",
    "catagorical_colum_names.remove('PassengerId')\n",
    "unique_values={}\n",
    "for names in catagorical_colum_names:\n",
    "    train_list=list(X[names].unique()) \n",
    "    test_list=list(X_test[names].unique())\n",
    "    for feature_value in train_list:\n",
    "        if feature_value not in test_list:\n",
    "            unique_values.setdefault(names,[]).append(feature_value)\n",
    "        \n",
    "    \n",
    "    "
   ]
  },
  {
   "cell_type": "code",
   "execution_count": 30,
   "metadata": {},
   "outputs": [
    {
     "data": {
      "text/plain": [
       "dict_keys(['Cabin'])"
      ]
     },
     "execution_count": 30,
     "metadata": {},
     "output_type": "execute_result"
    }
   ],
   "source": [
    "\n",
    "#HOW TO APPEND TO A DICTIONARY IN PYTHON\n",
    "unique_value={}\n",
    "unique_value.setdefault('d', []).append(4)\n",
    "unique_value.setdefault('d', []).append(5)\n",
    "\n",
    "unique_value\n",
    "\n",
    "unique_values.keys()"
   ]
  },
  {
   "attachments": {},
   "cell_type": "markdown",
   "metadata": {},
   "source": [
    "SINCE CABIN VALYES ARE UNIQUE, LETS DO SOME FEATURE ENGINEERING AND DIVID THE CABIN VALUES\n"
   ]
  },
  {
   "cell_type": "code",
   "execution_count": 36,
   "metadata": {},
   "outputs": [],
   "source": []
  },
  {
   "cell_type": "code",
   "execution_count": null,
   "metadata": {},
   "outputs": [],
   "source": []
  }
 ],
 "metadata": {
  "kernelspec": {
   "display_name": "Python 3",
   "language": "python",
   "name": "python3"
  },
  "language_info": {
   "codemirror_mode": {
    "name": "ipython",
    "version": 3
   },
   "file_extension": ".py",
   "mimetype": "text/x-python",
   "name": "python",
   "nbconvert_exporter": "python",
   "pygments_lexer": "ipython3",
   "version": "3.10.11"
  },
  "orig_nbformat": 4
 },
 "nbformat": 4,
 "nbformat_minor": 2
}
