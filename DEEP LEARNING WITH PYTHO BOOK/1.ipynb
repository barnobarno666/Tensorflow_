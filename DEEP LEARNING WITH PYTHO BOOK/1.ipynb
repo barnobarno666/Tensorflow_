{
 "cells": [
  {
   "cell_type": "code",
   "execution_count": 1,
   "metadata": {},
   "outputs": [],
   "source": [
    "from tensorflow.keras.datasets import imdb\n"
   ]
  },
  {
   "cell_type": "code",
   "execution_count": 2,
   "metadata": {},
   "outputs": [
    {
     "name": "stdout",
     "output_type": "stream",
     "text": [
      "Downloading data from https://storage.googleapis.com/tensorflow/tf-keras-datasets/imdb.npz\n",
      "17464789/17464789 [==============================] - 14s 1us/step\n"
     ]
    }
   ],
   "source": [
    "(train_data,train_labels),(test_data,test_labels) = imdb.load_data(num_words=10000)\n",
    "\n"
   ]
  },
  {
   "cell_type": "code",
   "execution_count": 17,
   "metadata": {},
   "outputs": [],
   "source": [
    "word_index=imdb.get_word_index()\n",
    "revese_word_index=dict(\n",
    "    [(value,key) for (key,value) in word_index.items()]\n",
    ")\n",
    "decoded_review=\" \".join(   [ revese_word_index.get(i-3,\"?\") for i in train_data[0] ]) "
   ]
  },
  {
   "cell_type": "code",
   "execution_count": 30,
   "metadata": {},
   "outputs": [],
   "source": [
    "import numpy as np \n",
    "def vectorize_sequences(sequences,dimention=10000):\n",
    "    results=np.zeros((len(sequences),dimention))\n",
    "    for i,sequence in enumerate(sequences):\n",
    "        #print(sequence)\n",
    "        for j in sequence:\n",
    "         #   print(j)\n",
    "            results[i,j]=1. \n",
    "    return results\n",
    "\n",
    "x_train=vectorize_sequences(train_data)\n",
    "x_test=vectorize_sequences(test_data)\n"
   ]
  },
  {
   "cell_type": "code",
   "execution_count": 31,
   "metadata": {},
   "outputs": [],
   "source": [
    "y_train=np.asarray(train_labels).astype(\"float32\")\n",
    "y_test=np.asarray(test_labels).astype(\"float32\")"
   ]
  },
  {
   "cell_type": "code",
   "execution_count": 61,
   "metadata": {},
   "outputs": [],
   "source": [
    "from tensorflow import keras \n",
    "from tensorflow.keras import layers \n",
    "class model:\n",
    "    def __init__(self,x_train,y_train,epochs=20,batch_size=512,validation_data=(x_train,y_train) ) -> None:\n",
    "        self.xdata=x_train\n",
    "        self.ydata=y_train\n",
    "        self.epochs=epochs\n",
    "        self.batch=batch_size\n",
    "        self.validate=validation_data\n",
    "    def builddaddy(self):\n",
    "        self.mode=keras.Sequential([\n",
    "            layers.Dense(units=16,activation='relu'),\n",
    "            layers.Dense(units=16,activation='relu'),\n",
    "            layers.Dense(units=1,activation='sigmoid')\n",
    "            \n",
    "        ])\n",
    "        \n",
    "    def compilepdaddy(self):\n",
    "        (self.mode).compile( optimizer='adam',loss='binary_crossentropy',metrics=['accuracy'])\n",
    "        \n",
    "    def fitdaddy(self):\n",
    "        (self.mode).fit(self.xdata,self.ydata,epochs=self.epochs,batch_size=self.batch,validation_data=self.validate)\n",
    "    def evaldaddy(self,x_train,y_train):\n",
    "        (self.mode).evaluate(x_train,y_train) \n",
    "    \n",
    "x_val=x_train[0:10000]\n",
    "partial_x_train=x_train[10000:]\n",
    "y_val=y_train[:10000]\n",
    "partial_y_train=y_train[10000:]\n",
    "new_model=model(x_train=partial_x_train,y_train=partial_y_train,validation_data=(x_val,y_val),epochs=4)\n",
    "new_model.builddaddy()\n",
    "new_model.compilepdaddy()\n",
    "  "
   ]
  },
  {
   "cell_type": "code",
   "execution_count": 62,
   "metadata": {},
   "outputs": [
    {
     "name": "stdout",
     "output_type": "stream",
     "text": [
      "Epoch 1/4\n",
      "30/30 [==============================] - 5s 127ms/step - loss: 0.5453 - accuracy: 0.7597 - val_loss: 0.4014 - val_accuracy: 0.8623\n",
      "Epoch 2/4\n",
      "30/30 [==============================] - 1s 25ms/step - loss: 0.3011 - accuracy: 0.9033 - val_loss: 0.2984 - val_accuracy: 0.8867\n",
      "Epoch 3/4\n",
      "30/30 [==============================] - 1s 24ms/step - loss: 0.2050 - accuracy: 0.9350 - val_loss: 0.2782 - val_accuracy: 0.8889\n",
      "Epoch 4/4\n",
      "30/30 [==============================] - 1s 23ms/step - loss: 0.1538 - accuracy: 0.9523 - val_loss: 0.2812 - val_accuracy: 0.8882\n"
     ]
    }
   ],
   "source": [
    "history=new_model.fitdaddy()\n",
    "\n"
   ]
  },
  {
   "cell_type": "code",
   "execution_count": 67,
   "metadata": {},
   "outputs": [
    {
     "name": "stdout",
     "output_type": "stream",
     "text": [
      "782/782 [==============================] - 2s 2ms/step - loss: 0.2979 - accuracy: 0.8804\n"
     ]
    }
   ],
   "source": [
    "new_model.evaldaddy(x_train=x_test,y_train=y_test)"
   ]
  }
 ],
 "metadata": {
  "kernelspec": {
   "display_name": "Python 3",
   "language": "python",
   "name": "python3"
  },
  "language_info": {
   "codemirror_mode": {
    "name": "ipython",
    "version": 3
   },
   "file_extension": ".py",
   "mimetype": "text/x-python",
   "name": "python",
   "nbconvert_exporter": "python",
   "pygments_lexer": "ipython3",
   "version": "3.11.3"
  },
  "orig_nbformat": 4
 },
 "nbformat": 4,
 "nbformat_minor": 2
}
