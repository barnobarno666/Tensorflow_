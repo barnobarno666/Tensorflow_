{
 "cells": [
  {
   "cell_type": "code",
   "execution_count": 1,
   "metadata": {},
   "outputs": [],
   "source": [
    "import matplotlib.pyplot as plt \n",
    "import tensorflow as tf \n",
    "import pandas as pd \n",
    "import numpy as np "
   ]
  },
  {
   "cell_type": "code",
   "execution_count": 3,
   "metadata": {},
   "outputs": [
    {
     "data": {
      "text/plain": [
       "<keras.layers.core.dense.Dense at 0x1a2fba4f250>"
      ]
     },
     "execution_count": 3,
     "metadata": {},
     "output_type": "execute_result"
    }
   ],
   "source": [
    "tf.keras.layers.Dense(units=5,activation='linear')"
   ]
  },
  {
   "cell_type": "code",
   "execution_count": 5,
   "metadata": {},
   "outputs": [
    {
     "name": "stdout",
     "output_type": "stream",
     "text": [
      "29.69911764705882\n"
     ]
    }
   ],
   "source": [
    "data=pd.read_csv('train.csv')\n",
    "print(data['Age'].mean())\n"
   ]
  },
  {
   "cell_type": "code",
   "execution_count": null,
   "metadata": {},
   "outputs": [],
   "source": []
  },
  {
   "cell_type": "code",
   "execution_count": 6,
   "metadata": {},
   "outputs": [],
   "source": [
    "data['Age'].fillna(29.7,inplace=True) #filling the noneexistent values"
   ]
  },
  {
   "attachments": {},
   "cell_type": "markdown",
   "metadata": {},
   "source": [
    "the following codes will be written by me, so how i'll do this is use only the age as features and predict survivavilty based  on that"
   ]
  },
  {
   "cell_type": "code",
   "execution_count": 11,
   "metadata": {},
   "outputs": [],
   "source": [
    "X_train=np.array(data['Age'].iloc[1:])    #load the data into np arrays \n",
    "#print(x_train)\n",
    "Y_train=np.array(data['Survived'].iloc[1:])\n"
   ]
  },
  {
   "cell_type": "code",
   "execution_count": 14,
   "metadata": {},
   "outputs": [
    {
     "data": {
      "image/png": "[encoded data removed]",
      "text/plain": [
       "<Figure size 400x300 with 1 Axes>"
      ]
     },
     "metadata": {},
     "output_type": "display_data"
    }
   ],
   "source": [
    "pos = Y_train == 1\n",
    "neg = Y_train == 0\n",
    "\n",
    "fig,ax = plt.subplots(1,1,figsize=(4,3))\n",
    "ax.scatter(X_train[pos], Y_train[pos], marker='x', s=80, c = 'red', label=\"y=1\")\n",
    "ax.scatter(X_train[neg], Y_train[neg], marker='o', s=100, label=\"y=0\", c='blue')\n",
    "\n",
    "ax.set_ylim(-0.08,1.1)\n",
    "ax.set_ylabel('y', fontsize=12)\n",
    "ax.set_xlabel('x', fontsize=12)\n",
    "ax.set_title('one vargiable plot')\n",
    "ax.legend(fontsize=12)\n",
    "plt.show()"
   ]
  },
  {
   "cell_type": "code",
   "execution_count": 68,
   "metadata": {},
   "outputs": [
    {
     "name": "stdout",
     "output_type": "stream",
     "text": [
      "[array([[ 0.02578564,  0.06178977, -0.02393246, -0.16576323, -0.02017496,\n",
      "        -0.11389498, -0.14891109, -0.14173257, -0.14329241,  0.04531404,\n",
      "         0.04724048,  0.05911912,  0.08358501, -0.0062902 , -0.12598948,\n",
      "         0.10188298, -0.15848807,  0.12461288, -0.13174786,  0.12270732,\n",
      "        -0.02037566,  0.103331  , -0.08456247, -0.09141169, -0.14617579,\n",
      "        -0.08144202,  0.01996811, -0.02631155,  0.14759497,  0.08075757,\n",
      "         0.00233074,  0.03097098,  0.10000994, -0.00900746,  0.05318293,\n",
      "        -0.00424787,  0.11271615,  0.04468871,  0.04029458,  0.04109744,\n",
      "         0.04447716,  0.12201481,  0.06348402,  0.0097719 , -0.1278875 ,\n",
      "         0.01996115, -0.07718851, -0.0498155 , -0.07930097,  0.02307664,\n",
      "        -0.00223161,  0.05407586, -0.02363016,  0.07118136, -0.16461992,\n",
      "        -0.1625584 , -0.16637354,  0.14646192,  0.03791339, -0.17306882,\n",
      "        -0.05472632,  0.09410334,  0.13085291, -0.02599317, -0.16121681,\n",
      "         0.10738006, -0.15753344, -0.02671735,  0.02991998,  0.110268  ,\n",
      "        -0.0379509 ,  0.03578867,  0.00583065, -0.16264531, -0.13884678,\n",
      "        -0.07277759,  0.0129654 ,  0.06851792,  0.13288073, -0.15131333,\n",
      "         0.00879231,  0.03376103,  0.04008513,  0.09541634, -0.0757509 ,\n",
      "        -0.12638049,  0.05655005, -0.15642516,  0.13431962,  0.09148651,\n",
      "        -0.01309443,  0.09605861,  0.08931904, -0.15509802, -0.08772013,\n",
      "         0.08449882, -0.03005328,  0.09899458,  0.05571049, -0.04659908,\n",
      "         0.07854138,  0.11544036,  0.11701873,  0.01896009, -0.14177814,\n",
      "         0.04022844, -0.14638783, -0.01880279,  0.02255093,  0.02761245,\n",
      "         0.0550795 ,  0.1534651 ,  0.13703999,  0.12415539, -0.13604267,\n",
      "         0.02778824,  0.13118452,  0.11921012, -0.00515728,  0.01574194,\n",
      "        -0.02177916, -0.08572718,  0.056027  ,  0.12122667, -0.1494149 ,\n",
      "         0.14201595, -0.05936479, -0.09799814,  0.13498881,  0.09716228,\n",
      "        -0.14214066,  0.02905001,  0.10481727, -0.13204788,  0.02205054,\n",
      "        -0.0551738 ,  0.05944515, -0.13277975,  0.13004965, -0.12963778,\n",
      "        -0.08490094, -0.1128669 ,  0.07831498,  0.05993005, -0.15894873,\n",
      "         0.09281877, -0.08980116,  0.0810221 , -0.11065099,  0.136741  ,\n",
      "         0.05039589,  0.08601353,  0.11728024, -0.07567621, -0.05438726,\n",
      "         0.1202489 ,  0.11604396,  0.11109255, -0.06537578, -0.09610437,\n",
      "        -0.01588508, -0.05487598,  0.05036766,  0.12238614, -0.14148226,\n",
      "        -0.00416963,  0.05305943,  0.07526299, -0.16377522,  0.04210883,\n",
      "         0.05859469,  0.04324259, -0.07632967,  0.0872866 , -0.15116027,\n",
      "        -0.16162454,  0.15452288,  0.01361607, -0.13375589,  0.1251009 ,\n",
      "         0.12453601,  0.10851065, -0.08793557, -0.06539497, -0.11018236,\n",
      "        -0.09631378, -0.01641486, -0.09131741,  0.04288978,  0.15280136,\n",
      "        -0.10652046, -0.11117553,  0.03314948, -0.11959741,  0.02459957,\n",
      "        -0.12316573, -0.15946299,  0.15125471,  0.04231818,  0.042018  ,\n",
      "         0.02753388, -0.04772433,  0.1506033 , -0.1650718 , -0.00292738,\n",
      "         0.02704451,  0.02524431, -0.03716801,  0.01586994,  0.02948614,\n",
      "        -0.12079944, -0.0252023 , -0.01330962,  0.06263374,  0.04584574,\n",
      "         0.05573294,  0.00574282, -0.00131378, -0.0795326 ,  0.02644367,\n",
      "        -0.14871268,  0.10578675,  0.06860339,  0.02725156,  0.03784329,\n",
      "        -0.09977975,  0.06471162, -0.04602489,  0.14085889, -0.10880409,\n",
      "         0.03035543, -0.15499562, -0.10744085, -0.06631074,  0.06412948,\n",
      "        -0.11459144,  0.15029031,  0.14324158,  0.004504  ,  0.14372388,\n",
      "         0.00672406, -0.12397456, -0.13880062,  0.03436297, -0.00217586,\n",
      "        -0.06883681,  0.11224628, -0.15793818, -0.09194106, -0.13714483,\n",
      "         0.0535566 ,  0.01567146,  0.13922408,  0.07655599,  0.11106691,\n",
      "         0.01271858, -0.01966525,  0.00060845, -0.15231246,  0.07933751,\n",
      "         0.00826609,  0.01640022, -0.10868021,  0.05424858,  0.10602336,\n",
      "        -0.03135286,  0.07073499, -0.07009145, -0.11804917,  0.03603344,\n",
      "        -0.10027336,  0.05010258,  0.12674785, -0.01935177, -0.08573086,\n",
      "         0.06313211, -0.00654515, -0.06012557,  0.11361194,  0.02840134,\n",
      "        -0.14246346,  0.0956076 ,  0.03542012,  0.10361396, -0.00347829,\n",
      "        -0.05389508, -0.14103287, -0.11729597,  0.06940677,  0.01881052,\n",
      "        -0.02485908,  0.07097191, -0.07167697, -0.0201222 ,  0.05644789,\n",
      "         0.14278406, -0.00251982, -0.1550519 , -0.15759341, -0.01696748]],\n",
      "      dtype=float32), array([ 1.96246634e-04,  4.42942197e-04, -1.55240605e-02,  8.94096494e-03,\n",
      "       -3.53290793e-03,  2.20667484e-04,  8.25507008e-03,  1.31337577e-02,\n",
      "        1.81097575e-02,  7.41140405e-03, -2.09478778e-03, -1.35574467e-03,\n",
      "       -8.15193821e-03, -9.89959482e-03,  5.67865325e-03,  1.18635513e-03,\n",
      "        1.94920618e-02, -1.35304090e-02, -3.17029096e-03, -9.16169398e-03,\n",
      "        3.23689310e-03, -1.29080247e-02, -7.35443272e-03, -1.57596786e-02,\n",
      "        1.14604803e-02, -6.56456547e-03,  1.20197923e-03, -1.21372230e-02,\n",
      "       -1.88608337e-02, -1.12555381e-02, -4.87542339e-03, -1.16822543e-02,\n",
      "       -5.07559255e-03,  1.23445923e-03, -1.70342182e-03,  4.70928429e-03,\n",
      "       -1.35561544e-02, -1.36382331e-03, -3.72305862e-03,  1.62485742e-03,\n",
      "       -5.58744650e-04, -3.18157044e-03, -1.54890371e-02,  2.03635893e-03,\n",
      "       -9.16592311e-03, -7.21327215e-03, -2.26228293e-02, -3.84200807e-03,\n",
      "       -3.87153192e-03,  1.78645074e-03, -4.52877721e-04, -1.39991893e-02,\n",
      "        4.36005648e-03,  2.68984749e-03,  2.11360957e-02,  1.48148574e-02,\n",
      "        9.31640249e-03, -1.98035091e-02, -3.70348978e-04,  2.08480768e-02,\n",
      "       -6.20566122e-03, -8.41142330e-03, -1.05162282e-02,  1.72174361e-03,\n",
      "        1.55037763e-02, -7.89858308e-03, -9.35326796e-04, -4.15262673e-03,\n",
      "        1.19528035e-02, -1.09519903e-02, -1.31140545e-03, -4.94760647e-03,\n",
      "        6.09795970e-04,  1.89777464e-02,  1.01239560e-03, -9.55499616e-03,\n",
      "        1.57789874e-03, -5.77105209e-03, -1.01899570e-02,  1.33296438e-02,\n",
      "       -1.19409000e-03,  2.52600480e-03, -1.52712571e-03, -6.19518757e-03,\n",
      "        1.11741282e-03, -3.72247281e-03, -1.47836551e-03,  1.62260339e-03,\n",
      "       -1.30691631e-02, -2.31833290e-03, -7.09313527e-03, -6.51645649e-04,\n",
      "       -6.91012945e-03,  1.45585127e-02, -2.42307410e-03, -6.26097247e-03,\n",
      "       -1.43342800e-02, -9.28288512e-03, -4.83587384e-03,  4.59699309e-04,\n",
      "       -9.52150114e-03, -8.35217256e-03, -2.24336050e-02,  7.45912665e-04,\n",
      "        1.07819596e-02, -6.15310390e-03,  1.03112692e-02,  3.29514267e-03,\n",
      "       -4.31490829e-03,  3.82449143e-05, -4.15792252e-04, -2.22411882e-02,\n",
      "       -1.72424391e-02, -1.22698518e-02,  1.01770964e-02,  4.93361661e-03,\n",
      "       -3.06274723e-02, -1.55115416e-02, -9.90809500e-03,  4.71828156e-04,\n",
      "       -5.90944337e-03, -5.44136763e-03, -2.50168685e-02, -2.21067369e-02,\n",
      "        1.44676771e-02, -2.07694545e-02, -6.69069774e-03, -1.96780488e-02,\n",
      "       -1.52708460e-02, -3.01569677e-03, -2.65229354e-03, -8.30619968e-03,\n",
      "       -1.14755677e-02,  9.16208606e-03, -2.92152353e-03,  5.14791464e-04,\n",
      "        1.11607288e-03, -1.56235986e-03, -3.20799276e-02, -1.31719827e-03,\n",
      "       -2.59646936e-03,  8.78794491e-03, -4.74788761e-03, -4.67823644e-04,\n",
      "        2.27894802e-02, -4.00641514e-03, -8.57187435e-03, -1.15287944e-03,\n",
      "       -1.22439163e-02, -6.06934400e-03, -1.31946960e-02,  4.90889943e-04,\n",
      "       -1.21059325e-02, -8.84331483e-03, -3.65045213e-04, -2.30109245e-02,\n",
      "       -3.00816027e-03, -8.76581669e-03, -8.21205322e-03, -1.24935284e-02,\n",
      "       -8.78044963e-03, -3.78740975e-03,  1.13314204e-02, -1.11578349e-02,\n",
      "       -9.48707294e-03, -7.89005030e-03,  5.52948238e-03, -1.07135912e-02,\n",
      "        1.58011168e-02,  9.11034702e-04, -1.80740922e-03,  4.72097006e-03,\n",
      "       -7.98897166e-03, -9.24274605e-03,  1.70001518e-02,  2.26390976e-02,\n",
      "       -3.17001753e-02, -5.48184291e-03,  7.32230535e-03, -2.41757948e-02,\n",
      "       -7.40219140e-03,  2.30526784e-03, -1.64754856e-02, -1.86088923e-02,\n",
      "        1.60747755e-03, -6.84312917e-03, -1.10879103e-02, -1.19289488e-03,\n",
      "       -3.91119672e-03, -2.01926231e-02, -5.69302915e-03,  2.10660067e-03,\n",
      "        1.09376106e-03, -1.03555052e-02, -1.22935185e-03, -5.63017139e-03,\n",
      "        1.50471749e-02, -2.51780376e-02, -5.24788210e-03,  1.52529334e-03,\n",
      "        1.26797741e-03, -2.03193203e-02, -3.49387862e-02,  2.26790328e-02,\n",
      "       -4.33805026e-03, -1.92902004e-03, -3.11152125e-03, -3.88842798e-03,\n",
      "       -7.55237881e-03,  7.61091337e-03,  3.87521158e-03, -2.95514404e-03,\n",
      "       -2.71393824e-03, -1.76284506e-04,  4.34580864e-03, -7.01904821e-04,\n",
      "       -2.00909246e-02, -4.60920436e-03, -1.22650526e-02, -1.62827806e-03,\n",
      "        1.63071379e-02, -6.19922578e-03,  2.01189861e-04, -8.75662081e-05,\n",
      "        4.10235208e-03, -2.50731874e-03, -1.95289142e-02, -4.17436706e-03,\n",
      "       -2.07198896e-02, -2.65706982e-03, -5.67227975e-03,  2.32284535e-02,\n",
      "       -1.44133475e-02, -4.75757523e-03, -2.63744470e-04,  3.78792547e-03,\n",
      "       -2.06505097e-02, -1.41501101e-02, -8.40321241e-04, -2.23127790e-02,\n",
      "        5.73168276e-03,  3.53295729e-03,  1.25683593e-02, -1.13655778e-03,\n",
      "        4.02938528e-03, -7.53660593e-03,  2.03275820e-03,  2.23505478e-02,\n",
      "       -1.73632056e-02,  2.49914895e-03,  5.78413066e-03, -1.51001839e-02,\n",
      "       -2.34944113e-02, -3.81455966e-03, -8.14257842e-03, -6.04416290e-03,\n",
      "       -7.10659428e-04, -1.85709412e-03,  2.09714216e-03, -9.69392341e-03,\n",
      "        1.71046925e-03,  1.52318284e-03, -7.05375057e-03,  4.99526691e-03,\n",
      "       -6.95239054e-03, -1.54527021e-04,  2.71334167e-04, -6.64867740e-03,\n",
      "        3.57105443e-03, -2.94451113e-03, -9.06786975e-03,  2.32833135e-03,\n",
      "       -1.24170482e-02, -6.02252432e-04, -1.08101983e-02, -6.93612092e-04,\n",
      "       -1.35893375e-02, -2.57160747e-03, -2.82459706e-02,  8.81165382e-04,\n",
      "        1.07213343e-02, -5.56985429e-03,  8.63220356e-03, -1.47975758e-02,\n",
      "        1.30318087e-02, -1.67976432e-02,  4.75580618e-03,  1.07250398e-03,\n",
      "        7.70777557e-03, -1.85698376e-03,  4.35258308e-03, -8.98001366e-04,\n",
      "       -9.60854255e-03, -3.34901013e-03, -1.17984498e-02, -1.55010177e-02,\n",
      "       -5.56354411e-04,  1.79078262e-02,  2.47959197e-02,  7.02502765e-03],\n",
      "      dtype=float32)]\n"
     ]
    }
   ],
   "source": [
    "print(model.get_layer('L1').get_weights())"
   ]
  },
  {
   "cell_type": "code",
   "execution_count": 46,
   "metadata": {},
   "outputs": [],
   "source": [
    "#plt.bar(Y_train,X_train)\n",
    "#plt.show()\n",
    "X_train=X_train.reshape(-1,1)\n",
    "Y_train=Y_train.reshape(-1,1)\n"
   ]
  },
  {
   "cell_type": "code",
   "execution_count": 62,
   "metadata": {},
   "outputs": [],
   "source": [
    "model=tf.keras.Sequential([\n",
    "    tf.keras.layers.Dense(units=300,activation='sigmoid',name='L1'),\n",
    "    tf.keras.layers.Dense(units=300,activation='linear',name='L2'),\n",
    "    tf.keras.layers.Dense(units=300,activation='sigmoid',name='L3'),\n",
    "    tf.keras.layers.Dense(units=300,activation='linear',name='L4'),\n",
    "    tf.keras.layers.Dense(units=1,activation='sigmoid',name='L5')\n",
    "    \n",
    "\n",
    "    \n",
    "])"
   ]
  },
  {
   "cell_type": "code",
   "execution_count": 63,
   "metadata": {},
   "outputs": [
    {
     "name": "stdout",
     "output_type": "stream",
     "text": [
      "Epoch 1/10\n",
      "28/28 [==============================] - 1s 5ms/step - loss: 0.7776 - accuracy: 0.5337\n",
      "Epoch 2/10\n",
      "28/28 [==============================] - 0s 4ms/step - loss: 0.6877 - accuracy: 0.6045\n",
      "Epoch 3/10\n",
      "28/28 [==============================] - 0s 7ms/step - loss: 0.6630 - accuracy: 0.6236\n",
      "Epoch 4/10\n",
      "28/28 [==============================] - 0s 4ms/step - loss: 0.6618 - accuracy: 0.6337\n",
      "Epoch 5/10\n",
      "28/28 [==============================] - 0s 4ms/step - loss: 0.6670 - accuracy: 0.6281\n",
      "Epoch 6/10\n",
      "28/28 [==============================] - 0s 3ms/step - loss: 0.6700 - accuracy: 0.6124\n",
      "Epoch 7/10\n",
      "28/28 [==============================] - 0s 4ms/step - loss: 0.6589 - accuracy: 0.6337\n",
      "Epoch 8/10\n",
      "28/28 [==============================] - 0s 4ms/step - loss: 0.6611 - accuracy: 0.6337\n",
      "Epoch 9/10\n",
      "28/28 [==============================] - 0s 4ms/step - loss: 0.6633 - accuracy: 0.6360\n",
      "Epoch 10/10\n",
      "28/28 [==============================] - 0s 4ms/step - loss: 0.6590 - accuracy: 0.6348\n"
     ]
    },
    {
     "data": {
      "text/plain": [
       "<keras.callbacks.History at 0x1a2ab95a680>"
      ]
     },
     "execution_count": 63,
     "metadata": {},
     "output_type": "execute_result"
    }
   ],
   "source": [
    "model.compile(optimizer='adam', loss='binary_crossentropy', metrics=['accuracy'])\n",
    "\n",
    "model.fit (X_train, Y_train, epochs = 10, batch_size = 32)\n"
   ]
  },
  {
   "attachments": {},
   "cell_type": "markdown",
   "metadata": {},
   "source": [
    "SO THE MODEL IS SHIT WITH ONLU 63  accuracy, what did i expect ! one thing is clear, adding more neurons wont make a difference, and i do not know if the model did overfit or not "
   ]
  }
 ],
 "metadata": {
  "kernelspec": {
   "display_name": "Python 3",
   "language": "python",
   "name": "python3"
  },
  "language_info": {
   "codemirror_mode": {
    "name": "ipython",
    "version": 3
   },
   "file_extension": ".py",
   "mimetype": "text/x-python",
   "name": "python",
   "nbconvert_exporter": "python",
   "pygments_lexer": "ipython3",
   "version": "3.10.11"
  },
  "orig_nbformat": 4
 },
 "nbformat": 4,
 "nbformat_minor": 2
}
