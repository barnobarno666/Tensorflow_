{
 "cells": [
  {
   "attachments": {},
   "cell_type": "markdown",
   "metadata": {},
   "source": [
    "THIS NOTEBOOK WILL BE USED FOR THE COURSE SUPERVISED LEARNING FIRST, I WILL COPY AND PASTE THE CODE HERE "
   ]
  },
  {
   "cell_type": "code",
   "execution_count": 2,
   "metadata": {},
   "outputs": [],
   "source": [
    "import matplotlib.pyplot as plt"
   ]
  },
  {
   "cell_type": "code",
   "execution_count": 3,
   "metadata": {},
   "outputs": [],
   "source": [
    "import numpy as np\n",
    "import pandas as pd\n"
   ]
  },
  {
   "cell_type": "code",
   "execution_count": 4,
   "metadata": {},
   "outputs": [],
   "source": [
    "#load_dataset\n",
    "churn_df=pd.read_csv('telecom_churn_clean.csv')\n"
   ]
  },
  {
   "attachments": {},
   "cell_type": "markdown",
   "metadata": {},
   "source": [
    "\n",
    "Got It!\n",
    "1. The classification challenge\n",
    "Previously, we learned that supervised learning uses labels. Let's discuss how we can build a classification model, or classifier, to predict the labels of unseen data.\n",
    "\n",
    "2. Classifying labels of unseen data\n",
    "There are four steps. First, we build a classifier, which learns from the labeled data we pass to it. We then pass it unlabeled data as input, and have it predict labels for this unseen data. As the classifier learns from the labeled data, we call this the training data.\n",
    "\n",
    "3. k-Nearest Neighbors\n",
    "Let's build our first model! We'll use an algorithm called k-Nearest Neighbors, which is popular for classification problems. The idea of k-Nearest Neighbors, or KNN, is to predict the label of any data point by looking at the k, for example, three, closest labeled data points and getting them to vote on what label the unlabeled observation should have. KNN uses majority voting, which makes predictions based on what label the majority of nearest neighbors have.\n",
    "\n",
    "4. k-Nearest Neighbors\n",
    "Using this scatter plot as an example, how do we classify the black observation?\n",
    "\n",
    "5. k-Nearest Neighbors\n",
    "If k equals three, we would classify it as red. This is because two of the three closest observations are red.\n",
    "\n",
    "6. k-Nearest Neighbors\n",
    "If k equals five, we would instead classify it as blue.\n",
    "\n",
    "7. KNN Intuition\n",
    "To build intuition for KNN, let's look at this scatter plot displaying total evening charge against total day charge for customers of a telecom company. The observations are colored in blue for customers who have churned, and red for those who have not churned.\n",
    "\n",
    "8. KNN Intuition\n",
    "Here we have visualized the results of a KNN algorithm where the number of neighbors is set to 15. KNN creates a decision boundary to predict if customers will churn. Any customers in the area with a gray background are predicted to churn, and those in the area with a red background are predicted to not churn. This boundary would be used to make predictions on unseen data.\n",
    "\n",
    "9. Using scikit-learn to fit a classifier\n",
    "To fit a KNN model using scikit-learn, we import KNeighborsClassifier from sklearn-dot-neighbors. We split our data into X, a 2D array of our features, and y, a 1D array of the target values - in this case, churn status. scikit-learn requires that the features are in an array where each column is a feature and each row a different observation. Similarly, the target needs to be a single column with the same number of observations as the feature data. We use the dot-values attribute to convert X and y to NumPy arrays. Printing the shape of X and y, we see there are 3333 observations of two features, and 3333 observations of the target variable. We then instantiate our KNeighborsClassifier, setting n_neighbors equal to 15, and assign it to the variable knn. Then we can fit this classifier to our labeled data by applying the classifier's dot-fit method and passing two arguments: the feature values, X, and the target values, y.\n",
    "\n",
    "10. Predicting on unlabeled data\n",
    "Here we have a set of new observations, X_new. Checking the shape of X_new, we see it has three rows and two columns, that is, three observations and two features. We use the classifier's dot-predict method and pass it the unseen data as a 2D NumPy array containing features in columns and observations in rows. Printing the predictions returns a binary value for each observation or row in X_new. It predicts 1, which corresponds to 'churn', for the first observation, and 0, which corresponds to 'no churn', for the second and third observations.\n",
    "\n",
    "11. Let's practice!\n",
    "Now let's build our own KNN model for the churn dataset, which we will use for the remainder of the chapter!"
   ]
  },
  {
   "cell_type": "code",
   "execution_count": 5,
   "metadata": {},
   "outputs": [
    {
     "name": "stdout",
     "output_type": "stream",
     "text": [
      "Predictions: [0 1 0]\n"
     ]
    }
   ],
   "source": [
    "# Import KNeighborsClassifier\n",
    "from sklearn.neighbors import  KNeighborsClassifier\n",
    "\n",
    "# Create arrays for the features and the target variable\n",
    "y = churn_df[\"churn\"].values\n",
    "X = churn_df[[\"account_length\", \"customer_service_calls\"]].values\n",
    "\n",
    "# Create a KNN classifier with 6 neighbors\n",
    "knn = KNeighborsClassifier(n_neighbors=6)\n",
    "\n",
    "# Fit the classifier to the data\n",
    "knn.fit(X, y)\n",
    "X_new = np.array([[30.0, 17.5],\n",
    "                  [107.0, 24.1],\n",
    "                  [213.0, 10.9]])\n",
    "# Predict the labels for the X_new\n",
    "y_pred = knn.predict(X_new)\n",
    "\n",
    "# Print the predictions for X_new\n",
    "print(\"Predictions: {}\".format(y_pred)) "
   ]
  },
  {
   "attachments": {},
   "cell_type": "markdown",
   "metadata": {},
   "source": [
    "\n",
    "Got It!\n",
    "1. Measuring model performance\n",
    "Now we can make predictions using a classifier, but how do we know if the model is making correct predictions? We can evaluate its performance!\n",
    "\n",
    "2. Measuring model performance\n",
    "In classification, accuracy is a commonly-used metric. Accuracy is the number of correct predictions divided by the total number of observations.\n",
    "\n",
    "3. Measuring model performance\n",
    "How do we measure accuracy? We could compute accuracy on the data used to fit the classifier. However, as this data was used to train the model, performance will not be indicative of how well it can generalize to unseen data, which is what we are interested in!\n",
    "\n",
    "4. Computing accuracy\n",
    "It is common to split data into a training set and a test set.\n",
    "\n",
    "5. Computing accuracy\n",
    "We fit the classifier using the training set,\n",
    "\n",
    "6. Computing accuracy\n",
    "then we calculate the model's accuracy against the test set's labels.\n",
    "\n",
    "7. Train/test split\n",
    "To do this, we import train_test_split from sklearn-dot-model_selection. We call train_test_split, passing our features and targets. We commonly use 20-30% of our data as the test set. By setting the test_size argument to zero-point-three we use 30% here. The random_state argument sets a seed for a random number generator that splits the data. Using the same number when repeating this step allows us to reproduce the exact split and our downstream results. It is best practice to ensure our split reflects the proportion of labels in our data. So if churn occurs in 10% of observations, we want 10% of labels in our training and test sets to represent churn. We achieve this by setting stratify equal to y. train_test_split returns four arrays: the training data, the test data, the training labels, and the test labels. We unpack these into X_train, X_test, y_train, and y_test, respectively. We then instantiate a KNN model and fit it to the training data using the dot-fit method. To check the accuracy, we use the dot-score method, passing X test and y test. The accuracy of our model is 88%, which is low given our labels have a 9 to 1 ratio.\n",
    "\n",
    "8. Model complexity\n",
    "Let's discuss how to interpret k. Recall that we discussed decision boundaries, which are thresholds for determining what label a model assigns to an observation. In the image shown, as k increases, the decision boundary is less affected by individual observations, reflecting a simpler model. Simpler models are less able to detect relationships in the dataset, which is known as underfitting. In contrast, complex models can be sensitive to noise in the training data, rather than reflecting general trends. This is known as overfitting.\n",
    "\n",
    "9. Model complexity and over/underfitting\n",
    "We can also interpret k using a model complexity curve. With a KNN model, we can calculate accuracy on the training and test sets using incremental k values, and plot the results. We create empty dictionaries to store our train and test accuracies, and an array containing a range of k values. We use a for loop to repeat our previous workflow, building several models using a different number of neighbors. We loop through our neighbors array and, inside the loop, we instantiate a KNN model with n_neighbors equal to the neighbor iterator, and fit to the training data. We then calculate training and test set accuracy, storing the results in their respective dictionaries.\n",
    "\n",
    "10. Plotting our results\n",
    "After our for loop, we then plot the training and test values, including a legend and labels.\n",
    "\n",
    "11. Model complexity curve\n",
    "Here's the result! As k increases beyond 15 we see overfitting where performance plateaus on both test and training sets, as indicated in this plot.\n",
    "\n",
    "12. Model complexity curve\n",
    "The peak test accuracy actually occurs at around 13 neighbors.\n",
    "\n",
    "13. Let's practice!\n",
    "Now let's practice splitting data, computing accuracy, and plotting model complexity curves!"
   ]
  },
  {
   "cell_type": "code",
   "execution_count": null,
   "metadata": {},
   "outputs": [],
   "source": []
  },
  {
   "cell_type": "code",
   "execution_count": 6,
   "metadata": {},
   "outputs": [
    {
     "name": "stdout",
     "output_type": "stream",
     "text": [
      "0.852\n"
     ]
    }
   ],
   "source": [
    "from sklearn.model_selection import train_test_split\n",
    "x_train,x_test,y_train,y_test=train_test_split( X,y,test_size=.3,random_state=21,stratify=y )\n",
    "knn_2=KNeighborsClassifier(n_neighbors=6)\n",
    "knn_2.fit(x_train,y_train)\n",
    "print(knn_2.score(x_test,y_test))"
   ]
  },
  {
   "cell_type": "code",
   "execution_count": 7,
   "metadata": {},
   "outputs": [
    {
     "name": "stdout",
     "output_type": "stream",
     "text": [
      "[[1, 0.858], [2, 0.859], [3, 0.859], [4, 0.853], [5, 0.86], [6, 0.855], [7, 0.852], [8, 0.86], [9, 0.859], [10, 0.855], [11, 0.859], [12, 0.863], [13, 0.859], [14, 0.858], [15, 0.858], [16, 0.858], [17, 0.86], [18, 0.86], [19, 0.864], [20, 0.857], [21, 0.858], [22, 0.854], [23, 0.859], [24, 0.857], [25, 0.856], [26, 0.859], [27, 0.856], [28, 0.86], [29, 0.859], [30, 0.855], [31, 0.855], [32, 0.855], [33, 0.856], [34, 0.861], [35, 0.86], [36, 0.859], [37, 0.856], [38, 0.858], [39, 0.86]]\n"
     ]
    },
    {
     "data": {
      "image/png": "[encoded data removed]",
      "text/plain": [
       "<Figure size 640x480 with 1 Axes>"
      ]
     },
     "metadata": {},
     "output_type": "display_data"
    }
   ],
   "source": [
    "#CODE WRITTEN BY ME\n",
    "a=[]\n",
    "for i in range(1,40):\n",
    "    x_train,x_test,y_train,y_test=train_test_split( X,y,test_size=.3,random_state=i*4,stratify=y )\n",
    "    knn_3=KNeighborsClassifier(n_neighbors=i)\n",
    "    knn_3.fit(x_train,y_train)\n",
    "    a.append([i,knn_2.score(x_test,y_test)])\n",
    "    \n",
    "print(a)\n",
    "a=np.array(a)\n",
    "x=[]\n",
    "Z=[]\n",
    "for i in range(39):\n",
    "    x.append(a[i][0])\n",
    "    Z.append(a[i][1])\n",
    "x=np.array(x)\n",
    "Z=np.array(Z)    \n",
    "plt.plot(x,Z)\n",
    "# Display the plot\n",
    "plt.show()\n"
   ]
  },
  {
   "cell_type": "code",
   "execution_count": 8,
   "metadata": {},
   "outputs": [
    {
     "name": "stdout",
     "output_type": "stream",
     "text": [
      "[ 1  2  3  4  5  6  7  8  9 10 11 12] \n",
      " {1: 0.8568366909558508, 2: 0.8748392627518217, 3: 0.8701243034719246, 4: 0.8705529361337334, 5: 0.8718388341191599, 6: 0.8602657522503214, 7: 0.866695242177454, 8: 0.8585512216030862, 9: 0.8585512216030862, 10: 0.8585512216030862, 11: 0.858979854264895, 12: 0.8555507929704244} \n",
      " {1: 0.774, 2: 0.838, 3: 0.83, 4: 0.851, 5: 0.847, 6: 0.852, 7: 0.851, 8: 0.851, 9: 0.85, 10: 0.854, 11: 0.855, 12: 0.855}\n"
     ]
    }
   ],
   "source": [
    "X_train,X_test,y_train,y_test=train_test_split( X,y,test_size=.3,random_state=21,stratify=y )\n",
    "\n",
    "# Create neighbors\n",
    "neighbors = np.arange(1, 13)\n",
    "train_accuracies = {}\n",
    "test_accuracies = {}\n",
    "\n",
    "for neighbor in neighbors:\n",
    "  \n",
    "\t# Set up a KNN Classifier\n",
    "\tknn = KNeighborsClassifier(n_neighbors=neighbor)\n",
    "  \n",
    "\t# Fit the model\n",
    "\tknn.fit(X_train, y_train)\n",
    "  \n",
    "\t# Compute accuracy\n",
    "\ttrain_accuracies[neighbor] = knn.score(X_train, y_train)\n",
    "\ttest_accuracies[neighbor] = knn.score(X_test, y_test)\n",
    "print(neighbors, '\\n', train_accuracies, '\\n', test_accuracies)"
   ]
  },
  {
   "cell_type": "code",
   "execution_count": 9,
   "metadata": {},
   "outputs": [
    {
     "data": {
      "image/png": "[encoded data removed]",
      "text/plain": [
       "<Figure size 640x480 with 1 Axes>"
      ]
     },
     "metadata": {},
     "output_type": "display_data"
    }
   ],
   "source": [
    "# Add a title\n",
    "plt.title(\"KNN: Varying Number of Neighbors\")\n",
    "\n",
    "# Plot training accuracies\n",
    "plt.plot(neighbors, train_accuracies.values(), label=\"Training Accuracy\")\n",
    "\n",
    "# Plot test accuracies\n",
    "plt.plot(neighbors, test_accuracies.values(), label=\"Testing Accuracy\")\n",
    "\n",
    "plt.legend()\n",
    "plt.xlabel(\"Number of Neighbors\")\n",
    "plt.ylabel(\"Accuracy\")\n",
    "\n",
    "# Display the plot\n",
    "plt.show()"
   ]
  },
  {
   "attachments": {},
   "cell_type": "markdown",
   "metadata": {},
   "source": [
    "CHAPTER ONE FINISHES HERE"
   ]
  },
  {
   "attachments": {},
   "cell_type": "markdown",
   "metadata": {},
   "source": [
    "CHAPTER  TWO STARTS HERE "
   ]
  },
  {
   "cell_type": "code",
   "execution_count": 10,
   "metadata": {},
   "outputs": [],
   "source": [
    "#load data\n",
    "sales_df=pd.read_csv(\"Advertising Budget and Sales.csv\")\n",
    "#im using a different dataset ."
   ]
  },
  {
   "cell_type": "code",
   "execution_count": 11,
   "metadata": {},
   "outputs": [
    {
     "name": "stdout",
     "output_type": "stream",
     "text": [
      "(200, 1) (200,)\n"
     ]
    }
   ],
   "source": [
    "# Create X from the radio column's values\n",
    "X = sales_df['radio'].values\n",
    "\n",
    "# Create y from the sales column's values\n",
    "y =sales_df['sales'].values\n",
    "\n",
    "# Reshape X\n",
    "X = X.reshape(-1,1)\n",
    "\n",
    "# Check the shape of the features and targets\n",
    "print(X.shape,y.shape)"
   ]
  },
  {
   "cell_type": "code",
   "execution_count": 1,
   "metadata": {},
   "outputs": [
    {
     "ename": "NameError",
     "evalue": "name 'X' is not defined",
     "output_type": "error",
     "traceback": [
      "\u001b[1;31m---------------------------------------------------------------------------\u001b[0m",
      "\u001b[1;31mNameError\u001b[0m                                 Traceback (most recent call last)",
      "\u001b[1;32mc:\\Users\\defaultuser0.LAPTOP-LRB3T941\\Documents\\Tensorflow\\DATACAMP\\Supervised_first.ipynb Cell 17\u001b[0m in \u001b[0;36m8\n\u001b[0;32m      <a href='vscode-notebook-cell:/c%3A/Users/defaultuser0.LAPTOP-LRB3T941/Documents/Tensorflow/DATACAMP/Supervised_first.ipynb#X22sZmlsZQ%3D%3D?line=4'>5</a>\u001b[0m reg \u001b[39m=\u001b[39m LinearRegression()\n\u001b[0;32m      <a href='vscode-notebook-cell:/c%3A/Users/defaultuser0.LAPTOP-LRB3T941/Documents/Tensorflow/DATACAMP/Supervised_first.ipynb#X22sZmlsZQ%3D%3D?line=6'>7</a>\u001b[0m \u001b[39m# Fit the model to the data\u001b[39;00m\n\u001b[1;32m----> <a href='vscode-notebook-cell:/c%3A/Users/defaultuser0.LAPTOP-LRB3T941/Documents/Tensorflow/DATACAMP/Supervised_first.ipynb#X22sZmlsZQ%3D%3D?line=7'>8</a>\u001b[0m reg\u001b[39m.\u001b[39mfit(X,y)\n\u001b[0;32m     <a href='vscode-notebook-cell:/c%3A/Users/defaultuser0.LAPTOP-LRB3T941/Documents/Tensorflow/DATACAMP/Supervised_first.ipynb#X22sZmlsZQ%3D%3D?line=9'>10</a>\u001b[0m \u001b[39m# Make predictions\u001b[39;00m\n\u001b[0;32m     <a href='vscode-notebook-cell:/c%3A/Users/defaultuser0.LAPTOP-LRB3T941/Documents/Tensorflow/DATACAMP/Supervised_first.ipynb#X22sZmlsZQ%3D%3D?line=10'>11</a>\u001b[0m predictions \u001b[39m=\u001b[39m reg\u001b[39m.\u001b[39mpredict(X)\n",
      "\u001b[1;31mNameError\u001b[0m: name 'X' is not defined"
     ]
    }
   ],
   "source": [
    "# Import LinearRegression\n",
    "from sklearn.linear_model import LinearRegression\n",
    "\n",
    "# Create the model\n",
    "reg = LinearRegression()\n",
    "\n",
    "# Fit the model to the data\n",
    "reg.fit(X,y)\n",
    "\n",
    "# Make predictions\n",
    "predictions = reg.predict(X)\n",
    "\n",
    "print(predictions[:5])"
   ]
  },
  {
   "cell_type": "code",
   "execution_count": null,
   "metadata": {},
   "outputs": [],
   "source": []
  },
  {
   "cell_type": "code",
   "execution_count": null,
   "metadata": {},
   "outputs": [],
   "source": []
  },
  {
   "cell_type": "code",
   "execution_count": null,
   "metadata": {},
   "outputs": [],
   "source": []
  },
  {
   "cell_type": "code",
   "execution_count": null,
   "metadata": {},
   "outputs": [],
   "source": []
  },
  {
   "cell_type": "code",
   "execution_count": null,
   "metadata": {},
   "outputs": [],
   "source": []
  },
  {
   "cell_type": "code",
   "execution_count": null,
   "metadata": {},
   "outputs": [],
   "source": []
  },
  {
   "cell_type": "code",
   "execution_count": 13,
   "metadata": {},
   "outputs": [
    {
     "data": {
      "image/png": "[encoded data removed]",
      "text/plain": [
       "<Figure size 640x480 with 1 Axes>"
      ]
     },
     "metadata": {},
     "output_type": "display_data"
    }
   ],
   "source": [
    "# Create scatter plot\n",
    "plt.scatter(X, y, color=\"blue\")\n",
    "\n",
    "# Create line plot\n",
    "plt.plot(X,predictions, color=\"red\")\n",
    "plt.xlabel(\"Radio Expenditure ($)\")\n",
    "plt.ylabel(\"Sales ($)\")\n",
    "\n",
    "# Display the plot\n",
    "plt.show()"
   ]
  },
  {
   "attachments": {},
   "cell_type": "markdown",
   "metadata": {},
   "source": [
    "\n",
    "Got It!\n",
    "1. The basics of linear regression\n",
    "So, how does linear regression work?\n",
    "\n",
    "2. Regression mechanics\n",
    "We want to fit a line to the data, and in two dimensions this takes the form of y equals ax plus b. Using a single feature is known as simple linear regression, where y is the target, x is the feature, and a and b are the model parameters that we want to learn. a and b are also called the model coefficients, or the slope and intercept, respectively. So how do we accurately choose values for a and b? We can define an error function for any given line and then choose the line that minimizes this function. Error functions are also called loss or cost functions.\n",
    "\n",
    "3. The loss function\n",
    "Let's visualize a loss function using this scatter plot. We want the line to be as close to the\n",
    "\n",
    "4. The loss function\n",
    "observations as possible. Therefore, we want to minimize the vertical distance between the fit and the data. So for each observation,\n",
    "\n",
    "5. The loss function\n",
    "we calculate the vertical distance between it and the line.\n",
    "\n",
    "6. The loss function\n",
    "This distance is called a residual. We could try to minimize the sum of the residuals,\n",
    "\n",
    "7. The loss function\n",
    "but then each positive residual would cancel out\n",
    "\n",
    "8. Ordinary Least Squares\n",
    "each negative residual. To avoid this, we square the residuals. By adding all the squared residuals, we calculate the residual sum of squares, or RSS. This type of linear regression is called Ordinary Least Squares, or OLS, where we aim to minimize the RSS.\n",
    "\n",
    "9. Linear regression in higher dimensions\n",
    "When we have two features, x1 and x2, and one target, y, a line takes the form y = a1x1 + a2x2 + b. So to fit a linear regression model we specify three variables, a1, a2, and the intercept, b. When adding more features, it is known as multiple linear regression. Fitting a multiple linear regression model means specifying a coefficient, a n, for n number of features, and b. For multiple linear regression models, scikit-learn expects one variable each for feature and target values.\n",
    "\n",
    "10. Linear regression using all features\n",
    "Let's perform linear regression to predict blood glucose levels using all of the features from the diabetes dataset. We import LinearRegression from sklearn-dot-linear_model. Then we split the data into training and test sets, instantiate the model, fit it on the training set, and predict on the test set. Note that linear regression in scikit-learn performs OLS under the hood.\n",
    "\n",
    "11. R-squared\n",
    "The default metric for linear regression is R-squared, which quantifies the amount of variance in the target variable that is explained by the features. Values can range from zero to one, with one meaning the features completely explain the target's variance. Here are two plots visualizing high and low R-squared respectively.\n",
    "\n",
    "12. R-squared in scikit-learn\n",
    "To compute R-squared, we call the model's dot-score method, passing the test features and targets. Here the features only explain about 35 percent of blood glucose level variance.\n",
    "\n",
    "13. Mean squared error and root mean squared error\n",
    "Another way to assess a regression model's performance is to take the mean of the residual sum of squares. This is known as the mean squared error, or MSE. MSE is measured in units of our target variable, squared. For example, if a model is predicting a dollar value, MSE will be in dollars squared. To convert to dollars, we can take the square root, known as the root mean squared error, or RMSE.\n",
    "\n",
    "14. RMSE in scikit-learn\n",
    "To calculate RMSE, we import mean_squared_error from sklearn-dot-metrics, then call mean_squared_error. We pass y_test and y_pred, and set squared equal to False, which returns the square root of the MSE. The model has an average error for blood glucose levels of around 24 milligrams per deciliter.\n",
    "\n",
    "15. Let's practice!\n",
    "Now let's build and evaluate a multiple linear regression model!"
   ]
  },
  {
   "attachments": {},
   "cell_type": "markdown",
   "metadata": {},
   "source": []
  },
  {
   "cell_type": "code",
   "execution_count": 10,
   "metadata": {},
   "outputs": [
    {
     "ename": "NameError",
     "evalue": "name 'sales_df' is not defined",
     "output_type": "error",
     "traceback": [
      "\u001b[1;31m---------------------------------------------------------------------------\u001b[0m",
      "\u001b[1;31mNameError\u001b[0m                                 Traceback (most recent call last)",
      "\u001b[1;32mc:\\Users\\defaultuser0.LAPTOP-LRB3T941\\Documents\\Tensorflow\\DATACAMP\\Supervised_first.ipynb Cell 27\u001b[0m in \u001b[0;36m2\n\u001b[0;32m      <a href='vscode-notebook-cell:/c%3A/Users/defaultuser0.LAPTOP-LRB3T941/Documents/Tensorflow/DATACAMP/Supervised_first.ipynb#X26sZmlsZQ%3D%3D?line=0'>1</a>\u001b[0m \u001b[39m# Create X and y arrays\u001b[39;00m\n\u001b[1;32m----> <a href='vscode-notebook-cell:/c%3A/Users/defaultuser0.LAPTOP-LRB3T941/Documents/Tensorflow/DATACAMP/Supervised_first.ipynb#X26sZmlsZQ%3D%3D?line=1'>2</a>\u001b[0m X \u001b[39m=\u001b[39m sales_df\u001b[39m.\u001b[39mdrop(\u001b[39m\"\u001b[39m\u001b[39msales\u001b[39m\u001b[39m\"\u001b[39m, axis\u001b[39m=\u001b[39m\u001b[39m1\u001b[39m)\u001b[39m.\u001b[39mvalues\n\u001b[0;32m      <a href='vscode-notebook-cell:/c%3A/Users/defaultuser0.LAPTOP-LRB3T941/Documents/Tensorflow/DATACAMP/Supervised_first.ipynb#X26sZmlsZQ%3D%3D?line=2'>3</a>\u001b[0m y \u001b[39m=\u001b[39m sales_df[\u001b[39m\"\u001b[39m\u001b[39msales\u001b[39m\u001b[39m\"\u001b[39m]\u001b[39m.\u001b[39mvalues\n\u001b[0;32m      <a href='vscode-notebook-cell:/c%3A/Users/defaultuser0.LAPTOP-LRB3T941/Documents/Tensorflow/DATACAMP/Supervised_first.ipynb#X26sZmlsZQ%3D%3D?line=4'>5</a>\u001b[0m X_train, X_test, y_train, y_test \u001b[39m=\u001b[39m train_test_split(X, y, test_size\u001b[39m=\u001b[39m\u001b[39m0.3\u001b[39m, random_state\u001b[39m=\u001b[39m\u001b[39m42\u001b[39m)\n",
      "\u001b[1;31mNameError\u001b[0m: name 'sales_df' is not defined"
     ]
    }
   ],
   "source": [
    "# Create X and y arrays\n",
    "X = sales_df.drop(\"sales\", axis=1).values\n",
    "y = sales_df[\"sales\"].values\n",
    "\n",
    "X_train, X_test, y_train, y_test = train_test_split(X, y, test_size=0.3, random_state=42)\n",
    "\n",
    "# Instantiate the model\n",
    "reg = LinearRegression()\n",
    "\n",
    "# Fit the model to the data\n",
    "reg.fit(X_train,y_train)\n",
    "# Make predictions\n",
    "y_pred = reg.predict(X_test)\n",
    "print(\"Predictions: {}, Actual Values: {}\".format(y_pred[:2], y_test[:2]))"
   ]
  },
  {
   "cell_type": "code",
   "execution_count": null,
   "metadata": {},
   "outputs": [],
   "source": []
  },
  {
   "cell_type": "code",
   "execution_count": 15,
   "metadata": {},
   "outputs": [
    {
     "name": "stdout",
     "output_type": "stream",
     "text": [
      "R^2: 0.8609155416329137\n",
      "RMSE: 1.948755156751894\n"
     ]
    }
   ],
   "source": [
    "# Import mean_squared_error\n",
    "from sklearn.metrics import mean_squared_error\n",
    "\n",
    "# Compute R-squared\n",
    "r_squared = reg.score(X_test, y_test)\n",
    "\n",
    "# Compute RMSE\n",
    "rmse = mean_squared_error(y_test, y_pred, squared=False)\n",
    "\n",
    "# Print the metrics\n",
    "print(\"R^2: {}\".format(r_squared))\n",
    "print(\"RMSE: {}\".format(rmse))"
   ]
  },
  {
   "attachments": {},
   "cell_type": "markdown",
   "metadata": {},
   "source": [
    "\n",
    "Got It!\n",
    "1. Cross-validation\n",
    "Great work on those regression challenges! Hopefully we are now feeling familiar with train test split and computing model performance metrics on our test set. But, there is a potential pitfall of this process.\n",
    "\n",
    "2. Cross-validation motivation\n",
    "If we're computing R-squared on our test set, the R-squared returned is dependent on the way that we split up the data! The data points in the test set may have some peculiarities that mean the R-squared computed on it is not representative of the model's ability to generalize to unseen data. To combat this dependence on what is essentially a random split, we use a technique called cross-validation.\n",
    "\n",
    "3. Cross-validation basics\n",
    "We begin by splitting the dataset into five groups or folds.\n",
    "\n",
    "4. Cross-validation basics\n",
    "Then we set aside the first fold as a test set,\n",
    "\n",
    "5. Cross-validation basics\n",
    "fit our model on the remaining four folds, predict on our test set,\n",
    "\n",
    "6. Cross-validation basics\n",
    "and compute the metric of interest, such as R-squared.\n",
    "\n",
    "7. Cross-validation basics\n",
    "Next, we set aside the second fold as our test set,\n",
    "\n",
    "8. Cross-validation basics\n",
    "fit on the remaining data, predict on the test set,\n",
    "\n",
    "9. Cross-validation basics\n",
    "and compute the metric of interest.\n",
    "\n",
    "10. Cross-validation basics\n",
    "Then similarly with the third fold,\n",
    "\n",
    "11. Cross-validation basics\n",
    "the fourth fold,\n",
    "\n",
    "12. Cross-validation basics\n",
    "and the fifth fold. As a result we get five values of R-squared from which we can compute statistics of interest, such as the mean, median, and 95% confidence intervals.\n",
    "\n",
    "13. Cross-validation and model performance\n",
    "As we split the dataset into five folds, we call this process 5-fold cross-validation. If we use 10 folds, it is called 10-fold cross-validation. More generally, if we use k folds, it is called k-fold cross-validation or k-fold CV. There is, however, a trade-off. Using more folds is more computationally expensive. This is because we are fitting and predicting more times.\n",
    "\n",
    "14. Cross-validation in scikit-learn\n",
    "To perform k-fold cross-validation in scikit-learn, we import cross_val_score from sklearn-dot-model_selection. We also import KFold, which allows us to set a seed and shuffle our data, making our results repeatable downstream. We first call KFold. The n_splits argument has a default of five, but in this case we assign six, allowing us to use six folds from our dataset for cross-validation. We also set shuffle to True, which shuffles our dataset before splitting into folds. We also assign a seed to the random_state keyword argument, ensuring our data would be split in the same way if we repeat the process making the results repeatable downstream. We save this as the variable kf. As usual, we instantiate our model, in this case, linear regression. We then call cross_val_score, passing the model, the feature data, and the target data as the first three positional arguments. We also specify the number of folds by setting the keyword argument cv equal to our kf variable. This returns an array of cross-validation scores, which we assign to cv_results. The length of the array is the number of folds utilized. Note that the score reported is R squared, as this is the default score for linear regression.\n",
    "\n",
    "15. Evaluating cross-validation peformance\n",
    "We can now print the scores. This returns six results ranging from zero-point-seven to approximately zero-point-seven-seven. We can calculate the mean score using np-dot-mean, and the standard deviation using np-dot-std. Additionally, we can calculate the 95% confidence interval using the np-dot-quantile function, passing our results followed by a list containing the upper and lower limits of our interval as decimals.\n",
    "\n",
    "16. Let's practice!\n",
    "Now let's apply k-fold cross-validation on our sales dataset!"
   ]
  },
  {
   "cell_type": "code",
   "execution_count": 18,
   "metadata": {},
   "outputs": [
    {
     "name": "stdout",
     "output_type": "stream",
     "text": [
      "[0.89488585 0.87851983 0.82806531 0.91920955 0.89588727 0.91264742]\n",
      "0.8882025369451233\n",
      "0.029924766194783847\n",
      "[0.83437212 0.91838928]\n"
     ]
    }
   ],
   "source": [
    "# Import the necessary modules\n",
    "from sklearn.model_selection import cross_val_score, KFold\n",
    "\n",
    "# Create a KFold object\n",
    "kf = KFold(n_splits=6, shuffle=True, random_state=5)\n",
    "\n",
    "reg = LinearRegression()\n",
    "\n",
    "# Compute 6-fold cross-validation scores\n",
    "cv_results = cross_val_score(reg, X, y, cv=kf)\n",
    "\n",
    "# Print scores\n",
    "print(cv_results)\n",
    "# Print the mean\n",
    "print(np.mean(cv_results))\n",
    "\n",
    "# Print the standard deviation\n",
    "print(np.std(cv_results))\n",
    "\n",
    "# Print the 95% confidence interval\n",
    "print(np.quantile(cv_results, [.025, .975]))"
   ]
  },
  {
   "attachments": {},
   "cell_type": "markdown",
   "metadata": {},
   "source": [
    "\n",
    "Got It!\n",
    "1. Regularized regression\n",
    "Now let's explore regularization in regression, a technique used to avoid overfitting.\n",
    "\n",
    "2. Why regularize?\n",
    "Recall that fitting a linear regression model minimizes a loss function to choose a coefficient, a, for each feature, and the intercept, b. If we allow these coefficients to be very large, we can get overfitting. Therefore, it is common practice to alter the loss function so that it penalizes large coefficients. This is called regularization.\n",
    "\n",
    "3. Ridge regression\n",
    "The first type of regularized regression that we'll look at is called ridge. With ridge, we use the Ordinary Least Squares loss function plus the squared value of each coefficient, multiplied by a constant, alpha. So, when minimizing the loss function, models are penalized for coefficients with large positive or negative values. When using ridge, we need to choose the alpha value in order to fit and predict. Essentially, we can select the alpha for which our model performs best. Picking alpha for ridge is similar to picking k in KNN. Alpha in ridge is known as a hyperparameter, which is a variable used for selecting a model's parameters. Alpha controls model complexity. When alpha equals zero, we are performing OLS, where large coefficients are not penalized and overfitting may occur. A high alpha means that large coefficients are significantly penalized, which can lead to underfitting.\n",
    "\n",
    "4. Ridge regression in scikit-learn\n",
    "To perform ridge regression in scikit-learn, we import Ridge from sklearn-dot-linear_model. To highlight the impact of different alpha values, we create an empty list for our scores, then loop through a list of different alpha values. Inside the for loop we instantiate Ridge, setting the alpha keyword argument equal to the iterator, also called alpha. We fit on the training data, and predict on the test data. We save the model's R-squared value to the scores list. Finally, outside of the loop, we print the scores for the models with five different alpha values. We see performance gets worse as alpha increases.\n",
    "\n",
    "5. Lasso regression\n",
    "There is another type of regularized regression called lasso, where our loss function is the OLS loss function plus the absolute value of each coefficient multiplied by some constant, alpha.\n",
    "\n",
    "6. Lasso regression in scikit-learn\n",
    "To use Lasso we import it from sklearn-dot-linear_model. The actual method for performing lasso regression in scikit-learn mirrors ridge regression, as we can see here. Performance drops substantially as alpha goes over 20!\n",
    "\n",
    "7. Lasso regression for feature selection\n",
    "Lasso regression can actually be used to assess feature importance. This is because it tends to shrink the coefficients of less important features to zero. The features whose coefficients are not shrunk to zero are selected by the lasso algorithm. Let's check this out in practice.\n",
    "\n",
    "8. Lasso for feature selection in scikit-learn\n",
    "We import Lasso. Next, we create our feature and target arrays, and use the dataset's dot-columns attribute to access the feature names and store as the variable names. As we are calculating feature importance we use the entire dataset, rather than splitting it. We then instantiate Lasso, setting alpha to zero-point-one. We fit the model to the data and extract the coefficients using the dot-coef-underscore attribute, storing as lasso_coef. We then plot the coefficients for each feature.\n",
    "\n",
    "9. Lasso for feature selection in scikit-learn\n",
    "We can see that the most important predictor for our target variable, blood glucose levels, is the binary value for whether an individual has diabetes or not! This is not surprising, but is a great sanity check. This type of feature selection is very important because it allows us to communicate results to non-technical audiences. It is also useful for identifying which factors are important predictors for various physical phenomena.\n",
    "\n",
    "10. Let's practice!\n",
    "Now let's apply regularization to our regression models!"
   ]
  },
  {
   "cell_type": "code",
   "execution_count": null,
   "metadata": {},
   "outputs": [],
   "source": [
    "#NEW_VIDEO\n",
    "\n",
    "\n",
    "# Import Ridge\n",
    "from sklearn.linear_model import Ridge\n",
    "alphas = [0.1, 1.0, 10.0, 100.0, 1000.0, 10000.0]\n",
    "ridge_scores = []\n",
    "for alpha in alphas:\n",
    "  \n",
    "  # Create a Ridge regression model\n",
    "  ridge = Ridge(alpha=alpha)\n",
    "  \n",
    "  # Fit the data\n",
    "  ridge.fit(X_train,y_train)\n",
    "  \n",
    "  # Obtain R-squared\n",
    "  score = ridge.score(X_test,y_test)\n",
    "  ridge_scores.append(score)\n",
    "print(ridge_scores)"
   ]
  },
  {
   "cell_type": "code",
   "execution_count": 20,
   "metadata": {},
   "outputs": [
    {
     "name": "stdout",
     "output_type": "stream",
     "text": [
      "[0.         0.04403347 0.19808631 0.00647079]\n"
     ]
    },
    {
     "data": {
      "image/png": "[encoded data removed]",
      "text/plain": [
       "<Figure size 640x480 with 1 Axes>"
      ]
     },
     "metadata": {},
     "output_type": "display_data"
    }
   ],
   "source": [
    "# Import Lasso\n",
    "from sklearn.linear_model import Lasso\n",
    "\n",
    "# Instantiate a lasso regression model\n",
    "lasso = Lasso(alpha=0.3)\n",
    "\n",
    "# Fit the model to the data\n",
    "lasso.fit(X_train,y_train)\n",
    "\n",
    "# Compute and print the coefficients\n",
    "lasso_coef = lasso.coef_\n",
    "print(lasso_coef)\n",
    "sales=['tv','radio','newspaper','sales']\n",
    "plt.bar(sales, lasso_coef)\n",
    "plt.xticks(rotation=45)\n",
    "plt.show()\n",
    "#print(sales)"
   ]
  },
  {
   "cell_type": "code",
   "execution_count": null,
   "metadata": {},
   "outputs": [],
   "source": []
  },
  {
   "attachments": {},
   "cell_type": "markdown",
   "metadata": {},
   "source": [
    "CHAPTER TWO ENDS HERE "
   ]
  },
  {
   "attachments": {},
   "cell_type": "markdown",
   "metadata": {},
   "source": [
    "CHAPTER THREE STARTS HERE"
   ]
  },
  {
   "attachments": {},
   "cell_type": "markdown",
   "metadata": {},
   "source": [
    "\n",
    "Got It!\n",
    "1. How good is your model?\n",
    "Thinking back to classification problems,\n",
    "\n",
    "2. Classification metrics\n",
    "recall that we can use accuracy, the fraction of correctly classified labels, to measure model performance. However, accuracy is not always a useful metric.\n",
    "\n",
    "3. Class imbalance\n",
    "Consider a model for predicting whether a bank transaction is fraudulent, where only 1% of transactions are actually fraudulent. We could build a model that classifies every transaction as legitimate; this model would have an accuracy of 99%! However, it does a terrible job of actually predicting fraud, so it fails at its original purpose. The situation where one class is more frequent is called class imbalance. Here, the class of legitimate transactions contains way more instances than the class of fraudulent transactions. This is a common situation in practice and requires a different approach to assessing the model's performance.\n",
    "\n",
    "4. Confusion matrix for assessing classification performance\n",
    "Given a binary classifier, such as our fraudulent transactions example, we can create a 2-by-2 matrix that summarizes performance called a confusion matrix.\n",
    "\n",
    "5. Assessing classification performance\n",
    "Across the top are the predicted labels,\n",
    "\n",
    "6. Assessing classification performance\n",
    "and down the side are the actual labels.\n",
    "\n",
    "7. Assessing classification performance\n",
    "Given any model, we can fill in the confusion matrix according to its predictions.\n",
    "\n",
    "8. Assessing classification performance\n",
    "The true positives are the number of fraudulent transactions correctly labeled;\n",
    "\n",
    "9. Assessing classification performance\n",
    "The true negatives are the number of legitimate transactions correctly labeled;\n",
    "\n",
    "10. Assessing classification performance\n",
    "The false negatives are the number of legitimate transactions incorrectly labeled;\n",
    "\n",
    "11. Assessing classification performance\n",
    "And the false positives are the number of transactions incorrectly labeled as fraudulent.\n",
    "\n",
    "12. Assessing classification performance\n",
    "Usually, the class of interest is called the positive class. As we aim to detect fraud, the positive class is an illegitimate transaction. So why is the confusion matrix important? Firstly, we can retrieve accuracy: it's the sum of true predictions divided by the total sum of the matrix.\n",
    "\n",
    "13. Precision\n",
    "Secondly, there are other important metrics we can calculate from the confusion matrix. Precision is the number of true positives divided by the sum of all positive predictions. It is also called the positive predictive value. In our case, this is the number of correctly labeled fraudulent transactions divided by the total number of transactions classified as fraudulent. High precision means having a lower false positive rate. For our classifier, this translates to fewer legitimate transactions being classified as fraudulent.\n",
    "\n",
    "14. Recall\n",
    "Recall is the number of true positives divided by the sum of true positives and false negatives. This is also called sensitivity. High recall reflects a lower false negative rate. For our classifier, it means predicting most fraudulent transactions correctly.\n",
    "\n",
    "15. F1 score\n",
    "The F1-score is the harmonic mean of precision and recall. This metric gives equal weight to precision and recall, therefore it factors in both the number of errors made by the model and the type of errors. The F1 score favors models with similar precision and recall, and is a useful metric if we are seeking a model which performs reasonably well across both metrics.\n",
    "\n",
    "16. Confusion matrix in scikit-learn\n",
    "Using our churn dataset, to compute the confusion matrix, along with the metrics, we import classification_report and confusion_matrix from sklearn-dot-metrics. We instantiate our classifier, split the data, fit the training data, and predict the labels of the test set.\n",
    "\n",
    "17. Confusion matrix in scikit-learn\n",
    "We pass the test set labels and the predicted labels to the confusion matrix function. We can see 1106 true negatives in the top left.\n",
    "\n",
    "18. Classification report in scikit-learn\n",
    "Passing the same arguments to classification report outputs all the relevant metrics. It includes precision and recall by class, point-seven-six and point-one-six for the churn class respectively, which highlights how poorly the model's recall is on the churn class. Support represents the number of instances for each class within the true labels.\n",
    "\n",
    "19. Let's practice!\n",
    "Now let's evaluate a classification model using our diabetes dataset!"
   ]
  },
  {
   "cell_type": "code",
   "execution_count": 24,
   "metadata": {},
   "outputs": [
    {
     "name": "stdout",
     "output_type": "stream",
     "text": [
      "[[848   7]\n",
      " [141   4]]\n",
      "              precision    recall  f1-score   support\n",
      "\n",
      "           0       0.86      0.99      0.92       855\n",
      "           1       0.36      0.03      0.05       145\n",
      "\n",
      "    accuracy                           0.85      1000\n",
      "   macro avg       0.61      0.51      0.49      1000\n",
      "weighted avg       0.79      0.85      0.79      1000\n",
      "\n"
     ]
    }
   ],
   "source": [
    "#load data again \n",
    "# Create arrays for the features and the target variable\n",
    "y = churn_df[\"churn\"].values\n",
    "X = churn_df[[\"account_length\", \"customer_service_calls\"]].values\n",
    "X_train,X_test,y_train,y_test=train_test_split( X,y,test_size=.3,random_state=21,stratify=y )\n",
    "\n",
    "\n",
    "\n",
    "# Import confusion matrix\n",
    "\n",
    "from sklearn.metrics import classification_report,confusion_matrix\n",
    "\n",
    "knn = KNeighborsClassifier(n_neighbors=6)\n",
    "\n",
    "# Fit the model to the training data\n",
    "knn.fit(X_train,y_train)\n",
    "\n",
    "# Predict the labels of the test data: y_pred\n",
    "y_pred = knn.predict(X_test)\n",
    "\n",
    "# Generate the confusion matrix and classification report\n",
    "print(confusion_matrix(y_test,y_pred))\n",
    "print(classification_report( y_test,y_pred))\n",
    "#print(X_train)"
   ]
  },
  {
   "attachments": {},
   "cell_type": "markdown",
   "metadata": {},
   "source": [
    "\n",
    "Got It!\n",
    "1. Logistic regression and the ROC curve\n",
    "It's time to introduce another model: logistic regression.\n",
    "\n",
    "2. Logistic regression for binary classification\n",
    "Despite its name, logistic regression is used for classification. This model calculates the probability, p, that an observation belongs to a binary class. Using our diabetes dataset as an example, if p is more than or equal to zero-point-five, we label the data as one, representing a prediction that an individual is more likely to have diabetes; if p is less than zero-point-five, we label it zero to represent that they are more likely to not have diabetes.\n",
    "\n",
    "3. Linear decision boundary\n",
    "Note that logistic regression produces a linear decision boundary, as we can see in this image.\n",
    "\n",
    "4. Logistic regression in scikit-learn\n",
    "Using logistic regression in scikit-learn follows the same approach as used for other models. We first import LogisticRegression from sklearn-dot-linear_model. Next we instantiate the classifier, split our data, fit the model on our training data, and predict on our test set. In this video we use the churn dataset.\n",
    "\n",
    "5. Predicting probabilities\n",
    "We can predict probabilities of each instance belonging to a class by calling logistic regression's predict_proba method and passing the test features. This returns a 2-dimensional array with probabilities for both classes, in this case, that the individual did not churn, or did churn, respectively. We slice the second column, representing the positive class probabilities, and store the results as y_pred_probs. Here we see the model predicts a probability of point-zero-eight-nine that the first observation has churned.\n",
    "\n",
    "6. Probability thresholds\n",
    "The default probability threshold for logistic regression in scikit-learn is zero-point-five. This threshold can also apply to other models such as KNN. So what happens as we vary this threshold?\n",
    "\n",
    "7. The ROC curve\n",
    "We can use a receiver operating characteristic, or ROC curve, to visualize how different thresholds affect true positive and false positive rates. Here, the dotted line represents a chance model, which randomly guesses labels.\n",
    "\n",
    "8. The ROC curve\n",
    "When the threshold equals zero, the model predicts one for all observations, meaning it will correctly predict all positive values, and incorrectly predict all negative values.\n",
    "\n",
    "9. The ROC curve\n",
    "If the threshold equals one, the model predicts zero for all data, which means that both true and false positive rates\n",
    "\n",
    "10. The ROC curve\n",
    "are zero. If we\n",
    "\n",
    "11. The ROC curve\n",
    "vary the threshold, we get a series of different false positive and true positive rates.\n",
    "\n",
    "12. The ROC curve\n",
    "A line plot of the thresholds helps to visualize the trend.\n",
    "\n",
    "13. Plotting the ROC curve\n",
    "To plot the ROC curve, we import roc_curve from sklearn-dot-metrics. We then call the function roc_curve; we pass the test labels as the first argument, and the predicted probabilities as the second. We unpack the results into three variables: false positive rate, FPR; true positive rate, TPR; and the thresholds. We can then plot a dotted line from zero to one, along with the FPR and TPR;\n",
    "\n",
    "14. Plotting the ROC curve\n",
    "to produce a figure such as this. This looks great, but how do we quantify the model's performance based on this plot?\n",
    "\n",
    "15. ROC AUC\n",
    "If we have a model with one for true positive rate and zero for false positive rate, this would be the perfect model. Therefore, we calculate the area under the ROC curve, a metric known as AUC. Scores range from zero to one, with one being ideal. Here, the model scores point-six-seven, which is only 34% better than a model making random guesses.\n",
    "\n",
    "16. ROC AUC in scikit-learn\n",
    "We can calculate AUC in scikit-learn by importing roc_auc_score from sklearn-dot-metrics. We call roc_auc_score, passing our test labels and our predicted probabilities, calculated by using the model's predict_proba method on X_test. As expected, we get a score of zero-point-six-seven.\n",
    "\n",
    "17. Let's practice!\n",
    "Now let's build a logistic regression model and evaluate its performance!"
   ]
  },
  {
   "cell_type": "code",
   "execution_count": 25,
   "metadata": {},
   "outputs": [
    {
     "name": "stdout",
     "output_type": "stream",
     "text": [
      "[0.11275646 0.21001553 0.08077095 0.15407033 0.54021632 0.07836551\n",
      " 0.15617268 0.08133993 0.15748582 0.07914139]\n"
     ]
    }
   ],
   "source": [
    "# Import LogisticRegression\n",
    "from sklearn.linear_model import LogisticRegression \n",
    "\n",
    "# Instantiate the model\n",
    "logreg = LogisticRegression()\n",
    "\n",
    "# Fit the model\n",
    "logreg.fit(X_train,y_train)\n",
    "\n",
    "# Predict probabilities\n",
    "y_pred_probs = logreg.predict_proba(X_test)[:, 1]\n",
    "\n",
    "print(y_pred_probs[:10])"
   ]
  },
  {
   "cell_type": "code",
   "execution_count": null,
   "metadata": {},
   "outputs": [],
   "source": []
  },
  {
   "cell_type": "code",
   "execution_count": 26,
   "metadata": {},
   "outputs": [
    {
     "data": {
      "image/png": "[encoded data removed]",
      "text/plain": [
       "<Figure size 640x480 with 1 Axes>"
      ]
     },
     "metadata": {},
     "output_type": "display_data"
    }
   ],
   "source": [
    "# Import roc_curve\n",
    "from sklearn.metrics import roc_curve\n",
    "\n",
    "# Generate ROC curve values: fpr, tpr, thresholds\n",
    "fpr, tpr, thresholds = roc_curve(y_test, y_pred_probs)\n",
    "\n",
    "plt.plot([0, 1], [0, 1], 'k--')\n",
    "\n",
    "# Plot tpr against fpr\n",
    "plt.plot(fpr, tpr)\n",
    "plt.xlabel('False Positive Rate')\n",
    "plt.ylabel('True Positive Rate')\n",
    "plt.title('ROC Curve for Diabetes Prediction')\n",
    "plt.show()"
   ]
  },
  {
   "cell_type": "code",
   "execution_count": 27,
   "metadata": {},
   "outputs": [
    {
     "name": "stdout",
     "output_type": "stream",
     "text": [
      "0.6356684815486993\n",
      "[[848   7]\n",
      " [141   4]]\n",
      "              precision    recall  f1-score   support\n",
      "\n",
      "           0       0.86      0.99      0.92       855\n",
      "           1       0.36      0.03      0.05       145\n",
      "\n",
      "    accuracy                           0.85      1000\n",
      "   macro avg       0.61      0.51      0.49      1000\n",
      "weighted avg       0.79      0.85      0.79      1000\n",
      "\n"
     ]
    }
   ],
   "source": [
    "# Import roc_auc_score\n",
    "from sklearn.metrics import roc_auc_score\n",
    "\n",
    "# Calculate roc_auc_score\n",
    "print(roc_auc_score(y_test, y_pred_probs))\n",
    "\n",
    "# Calculate the confusion matrix\n",
    "print(confusion_matrix(y_test,y_pred))\n",
    "\n",
    "# Calculate the classification report\n",
    "print(classification_report(y_test,y_pred))"
   ]
  },
  {
   "attachments": {},
   "cell_type": "markdown",
   "metadata": {},
   "source": [
    "\n",
    "Got It!\n",
    "1. Hyperparameter tuning\n",
    "Now that we know how to evaluate model performance, let's explore how to optimize our model.\n",
    "\n",
    "2. Hyperparameter tuning\n",
    "Recall that we had to choose a value for alpha in ridge and lasso regression before fitting it. Likewise, before fitting and predicting KNN, we choose n_neighbors. Parameters that we specify before fitting a model, like alpha and n_neighbors, are called hyperparameters. So, a fundamental step for building a successful model:\n",
    "\n",
    "3. Choosing the correct hyperparameters\n",
    "is choosing the correct hyperparameters. We can try lots of different values, fit all of them separately, see how well they perform, and choose the best values! This is called hyperparameter tuning. When fitting different hyperparameter values, we use cross-validation to avoid overfitting the hyperparameters to the test set. We can still split the data, but perform cross-validation on the training set. We withhold the test set and use it for evaluating the tuned model.\n",
    "\n",
    "4. Grid search cross-validation\n",
    "One approach for hyperparameter tuning is called grid search, where we choose a grid of possible hyperparameter values to try. For example, we can search across two hyperparameters for a KNN model - the type of metric and a different number of neighbors. Here we have n neighbors between two and eleven in increments of three, and two metrics: euclidean and manhattan. Therefore, we can create a grid of values like this.\n",
    "\n",
    "5. Grid search cross-validation\n",
    "We perform k-fold cross-validation for each combination of hyperparameters. The mean scores for each combination are shown here.\n",
    "\n",
    "6. Grid search cross-validation\n",
    "We then choose hyperparameters that performed best, as shown here.\n",
    "\n",
    "7. GridSearchCV in scikit-learn\n",
    "Let's perform a grid search on a regression model using our sales dataset. We import GridSearchCV from sklearn-dot-model_selection. We instantiate KFold. We then specify the names and values of the hyperparameters we wish to tune as the keys and values of a dictionary, param_grid. As always, we instantiate our model. We then call GridSearchCV and pass it our model, the grid we wish to tune over and set cv equal to kf. This returns a GridSearch object that we can then fit to the training data, and this fit performs the actual cross-validated grid search. We can then print the model's attributes best-params-underscore and best-score-underscore, respectively, to retrieve the hyperparameters that perform the best along with the mean cross-validation score over that fold.\n",
    "\n",
    "8. Limitations and an alternative approach\n",
    "Grid search is great. However, the number of fits is equal to the number of hyperparameters multiplied by the number of values multiplied by the number of folds. Therefore, it doesn't scale well! So, performing 3-fold cross-validation for one hyperparameter with 10 values each means 30 fits, while 10-fold cross-validation on 3 hyperparameters with 10 values each equals 900 fits! However, there is another way.\n",
    "\n",
    "9. RandomizedSearchCV\n",
    "We can perform a random search, which picks random hyperparameter values rather than exhaustively searching through all options. Let's demonstrate this approach. We import RandomizedSearchCV from sklearn-dot-model_selection. We set up KFold and param_grid, and instantiate the model as before. We call RandomizedSearchCV using the same arguments and variables as GridSearchCV. We can optionally set the n_iter argument, which determines the number of hyperparameter values tested. So five-fold cross-validation with n_iter set to two performs 10 fits. Again we can access the best hyperparameters and their score. In this case it is able to find the best hyperparameters from our previous grid search!\n",
    "\n",
    "10. Evaluating on the test set\n",
    "We can evaluate model performance on the test set by passing it to a call of the random search object's dot-score method. It actually performs slightly better than the best score in our grid search!\n",
    "\n",
    "11. Let's practice!\n",
    "Now let's perform some hyperparameter tuning!"
   ]
  },
  {
   "cell_type": "code",
   "execution_count": 28,
   "metadata": {},
   "outputs": [
    {
     "name": "stdout",
     "output_type": "stream",
     "text": [
      "Tuned lasso paramaters: {'alpha': 1e-05}\n",
      "Tuned lasso score: 0.029478635146995318\n"
     ]
    }
   ],
   "source": [
    "# Import GridSearchCV\n",
    "from sklearn.model_selection import GridSearchCV\n",
    "\n",
    "# Set up the parameter grid\n",
    "param_grid = {\"alpha\": np.linspace(0.00001, 1, 20)}\n",
    "\n",
    "# Instantiate lasso_cv\n",
    "lasso_cv = GridSearchCV(lasso, param_grid, cv=kf)\n",
    "\n",
    "# Fit to the training data\n",
    "lasso_cv.fit(X_train,y_train)\n",
    "print(\"Tuned lasso paramaters: {}\".format(lasso_cv.best_params_))\n",
    "print(\"Tuned lasso score: {}\".format(lasso_cv.best_score_))"
   ]
  },
  {
   "cell_type": "code",
   "execution_count": 32,
   "metadata": {},
   "outputs": [
    {
     "name": "stdout",
     "output_type": "stream",
     "text": [
      "Tuned Logistic Regression Parameters: {'tol': 0.2245673469387755, 'penalty': 'l2', 'class_weight': {0: 0.8, 1: 0.2}, 'C': 0.3020408163265306}\n",
      "Tuned Logistic Regression Best Accuracy Score: 0.8551356460746119\n"
     ]
    }
   ],
   "source": [
    "# Create the parameter space\n",
    "from sklearn.model_selection import RandomizedSearchCV\n",
    "        \n",
    "params = {\"penalty\": [\"l2\"],\n",
    "         \"tol\": np.linspace(0.0001 , 1.0, 50),\n",
    "         \"C\": np.linspace(0.1 ,1, 50),\n",
    "         \"class_weight\": [\"balanced\", {0:0.8, 1:0.2}]}\n",
    "\n",
    "# Instantiate the RandomizedSearchCV object\n",
    "logreg_cv = RandomizedSearchCV(logreg, params, cv=kf)\n",
    "\n",
    "# Fit the data to the model\n",
    "logreg_cv.fit(X_train, y_train)\n",
    "\n",
    "# Print the tuned parameters and score\n",
    "print(\"Tuned Logistic Regression Parameters: {}\".format(logreg_cv.best_params_))\n",
    "print(\"Tuned Logistic Regression Best Accuracy Score: {}\".format(logreg_cv.best_score_))"
   ]
  },
  {
   "attachments": {},
   "cell_type": "markdown",
   "metadata": {},
   "source": [
    "THIS IS THE END , CHAPTER FOUR WILL BE IN ANOTHER FILE, GOOD BYE.."
   ]
  }
 ],
 "metadata": {
  "kernelspec": {
   "display_name": "Python 3",
   "language": "python",
   "name": "python3"
  },
  "language_info": {
   "codemirror_mode": {
    "name": "ipython",
    "version": 3
   },
   "file_extension": ".py",
   "mimetype": "text/x-python",
   "name": "python",
   "nbconvert_exporter": "python",
   "pygments_lexer": "ipython3",
   "version": "3.10.11"
  },
  "orig_nbformat": 4
 },
 "nbformat": 4,
 "nbformat_minor": 2
}
