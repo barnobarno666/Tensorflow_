{
 "cells": [
  {
   "cell_type": "code",
   "execution_count": 1,
   "metadata": {},
   "outputs": [],
   "source": [
    "class ImportImages:\n",
    "  \n",
    "    def __init__(self, folder=r\"D:\\DATASET\\FRuites\\fruits-360_dataset\\fruits-360\\Training\\Pineapple\"):\n",
    "        import os\n",
    "        import cv2\n",
    "        self.folder=folder\n",
    "        file_list2=os.listdir(folder)\n",
    "        image_list2=[]\n",
    "        for file in file_list2:\n",
    "            if file.endswith(\".jpg\") or file.endswith(\".png\") or file.endswith(\".jpeg\") or file.endswith(\".JPG\") or file.endswith(\".PNG\") or file.endswith(\".JPEG\") or file.endswith(\".jfif\") or file.endswith(\".JFIF\") or file.endswith(\".bmp\") or file.endswith(\".BMP\") :\n",
    "                try:image_list2.append(folder+\"\\\\\"+file)\n",
    "                except:pass\n",
    "                    \n",
    "        #print(image_list[0])\n",
    "        #x=cv2.imread(image_list[0])\n",
    "        self.all_images2=[]\n",
    "        #print(x.shape)\n",
    "        second_images2=[]\n",
    "        for image in image_list2:\n",
    "            self.all_images2.all_images2.append(cv2.imread(image))\n",
    "        return self.all_images2\n",
    "    \n",
    "    \n",
    "    def resize(self,size=(100,100) ): \n",
    "        import cv2\n",
    "   \n",
    "        self.resized_images2 = []\n",
    "        for images in self.all_images2:\n",
    "            new_image=cv2.resize(images, (100, 100))\n",
    "            self.resized_images2.append(new_image)\n",
    "        return self.resized_images2\n"
   ]
  }
 ],
 "metadata": {
  "kernelspec": {
   "display_name": "Python 3",
   "language": "python",
   "name": "python3"
  },
  "language_info": {
   "codemirror_mode": {
    "name": "ipython",
    "version": 3
   },
   "file_extension": ".py",
   "mimetype": "text/x-python",
   "name": "python",
   "nbconvert_exporter": "python",
   "pygments_lexer": "ipython3",
   "version": "3.10.11"
  },
  "orig_nbformat": 4
 },
 "nbformat": 4,
 "nbformat_minor": 2
}
